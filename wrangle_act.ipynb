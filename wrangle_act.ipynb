{
 "cells": [
  {
   "cell_type": "markdown",
   "metadata": {
    "extensions": {
     "jupyter_dashboards": {
      "version": 1,
      "views": {
       "grid_default": {
        "col": 0,
        "height": 4,
        "hidden": false,
        "row": 0,
        "width": 4
       },
       "report_default": {
        "hidden": false
       }
      }
     }
    }
   },
   "source": [
    "# Project: Wrangling and Analyze Data"
   ]
  },
  {
   "cell_type": "code",
   "execution_count": 1,
   "metadata": {},
   "outputs": [],
   "source": [
    "import pandas as pd\n",
    "import numpy as np\n",
    "import matplotlib.pyplot as plt\n",
    "%matplotlib inline\n",
    "import requests\n",
    "import json  \n",
    "import tweepy\n",
    "import warnings\n",
    "import re\n",
    "warnings.filterwarnings(\"ignore\")"
   ]
  },
  {
   "cell_type": "markdown",
   "metadata": {},
   "source": [
    "## Data Gathering\n",
    "In the cell below, gather **all** three pieces of data for this project and load them in the notebook. **Note:** the methods required to gather each data are different.\n",
    "1. Directly download the WeRateDogs Twitter archive data (twitter_archive_enhanced.csv)"
   ]
  },
  {
   "cell_type": "code",
   "execution_count": 2,
   "metadata": {
    "extensions": {
     "jupyter_dashboards": {
      "version": 1,
      "views": {
       "grid_default": {
        "hidden": true
       },
       "report_default": {
        "hidden": true
       }
      }
     }
    }
   },
   "outputs": [],
   "source": [
    "df_twitter = pd.read_csv('twitter-archive-enhanced.csv')"
   ]
  },
  {
   "cell_type": "markdown",
   "metadata": {},
   "source": [
    "2. Use the Requests library to download the tweet image prediction (image_predictions.tsv)"
   ]
  },
  {
   "cell_type": "code",
   "execution_count": 40,
   "metadata": {},
   "outputs": [],
   "source": [
    "URL = \"https://d17h27t6h515a5.cloudfront.net/topher/2017/August/599fd2ad_image-predictions/image-predictions.tsv\"\n",
    "req = requests.get(URL)\n",
    "with open('image_predictions.tsv', 'wb')as file:\n",
    "    file.write(req.content)"
   ]
  },
  {
   "cell_type": "code",
   "execution_count": 3,
   "metadata": {},
   "outputs": [],
   "source": [
    "df_image = pd.read_csv('image_predictions.tsv',delimiter='\\t')"
   ]
  },
  {
   "cell_type": "markdown",
   "metadata": {},
   "source": [
    "3. Use the Tweepy library to query additional data via the Twitter API (tweet_json.txt)"
   ]
  },
  {
   "cell_type": "markdown",
   "metadata": {},
   "source": [
    "### credintionals\n"
   ]
  },
  {
   "cell_type": "code",
   "execution_count": 4,
   "metadata": {},
   "outputs": [],
   "source": [
    "API_key = '#'\n",
    "API_secret = '#'\n",
    "Bearer_Token = '#'\n",
    "access_token = '#'\n",
    "access_secret = '#'"
   ]
  },
  {
   "cell_type": "markdown",
   "metadata": {},
   "source": [
    "### Authentcation"
   ]
  },
  {
   "cell_type": "code",
   "execution_count": 5,
   "metadata": {},
   "outputs": [],
   "source": [
    "Auth = tweepy.OAuthHandler(API_key,API_secret)\n",
    "Auth.set_access_token(access_token, access_secret)\n",
    "\n",
    "app = tweepy.API(Auth, wait_on_rate_limit=True)"
   ]
  },
  {
   "cell_type": "markdown",
   "metadata": {},
   "source": [
    "\n",
    "### data gathering "
   ]
  },
  {
   "cell_type": "code",
   "execution_count": 35,
   "metadata": {},
   "outputs": [
    {
     "name": "stderr",
     "output_type": "stream",
     "text": [
      "Rate limit reached. Sleeping for: 197\n",
      "Rate limit reached. Sleeping for: 434\n"
     ]
    }
   ],
   "source": [
    "df_tweets = pd.DataFrame(columns = ['tweet_id','favorite','retweet'])\n",
    "notFoundTweets=[]\n",
    "for tweetID in df_twitter.tweet_id:\n",
    "    try:\n",
    "        tweet = app.get_status(int(tweetID))._json \n",
    "        df_tweets = df_tweets.append({\n",
    "            'tweet_id': tweetID,\n",
    "            'favorite': tweet['favorite_count'],\n",
    "            'retweet' : tweet['retweet_count'],\n",
    "        },ignore_index = True)\n",
    "    except Exception as e: \n",
    "        notFoundTweets.append(str(tweetID) +'   '+ str(e))\n",
    "df_tweets.to_csv('tweets_json.csv',index=False)\n",
    "np.savetxt('tweet_json.txt',df_tweets.values,fmt=\"%s\")"
   ]
  },
  {
   "cell_type": "code",
   "execution_count": 4,
   "metadata": {},
   "outputs": [
    {
     "name": "stdout",
     "output_type": "stream",
     "text": [
      "<class 'pandas.core.frame.DataFrame'>\n",
      "RangeIndex: 2327 entries, 0 to 2326\n",
      "Data columns (total 3 columns):\n",
      " #   Column    Non-Null Count  Dtype\n",
      "---  ------    --------------  -----\n",
      " 0   tweet_id  2327 non-null   int64\n",
      " 1   favorite  2327 non-null   int64\n",
      " 2   retweet   2327 non-null   int64\n",
      "dtypes: int64(3)\n",
      "memory usage: 54.7 KB\n"
     ]
    }
   ],
   "source": [
    "df_tweets = pd.read_csv('tweets_json.csv')\n",
    "df_tweets.info()"
   ]
  },
  {
   "cell_type": "markdown",
   "metadata": {
    "extensions": {
     "jupyter_dashboards": {
      "version": 1,
      "views": {
       "grid_default": {
        "col": 4,
        "height": 4,
        "hidden": false,
        "row": 28,
        "width": 4
       },
       "report_default": {
        "hidden": false
       }
      }
     }
    }
   },
   "source": [
    "## Assessing Data\n",
    "In this section, detect and document at least **eight (8) quality issues and two (2) tidiness issue**. You must use **both** visual assessment\n",
    "programmatic assessement to assess the data.\n",
    "\n",
    "**Note:** pay attention to the following key points when you access the data.\n",
    "\n",
    "* You only want original ratings (no retweets) that have images. Though there are 5000+ tweets in the dataset, not all are dog ratings and some are retweets.\n",
    "* Assessing and cleaning the entire dataset completely would require a lot of time, and is not necessary to practice and demonstrate your skills in data wrangling. Therefore, the requirements of this project are only to assess and clean at least 8 quality issues and at least 2 tidiness issues in this dataset.\n",
    "* The fact that the rating numerators are greater than the denominators does not need to be cleaned. This [unique rating system](http://knowyourmeme.com/memes/theyre-good-dogs-brent) is a big part of the popularity of WeRateDogs.\n",
    "* You do not need to gather the tweets beyond August 1st, 2017. You can, but note that you won't be able to gather the image predictions for these tweets since you don't have access to the algorithm used.\n",
    "\n"
   ]
  },
  {
   "cell_type": "markdown",
   "metadata": {},
   "source": [
    "### Visual assessment"
   ]
  },
  {
   "cell_type": "code",
   "execution_count": 5,
   "metadata": {},
   "outputs": [
    {
     "data": {
      "text/html": [
       "<div>\n",
       "<style scoped>\n",
       "    .dataframe tbody tr th:only-of-type {\n",
       "        vertical-align: middle;\n",
       "    }\n",
       "\n",
       "    .dataframe tbody tr th {\n",
       "        vertical-align: top;\n",
       "    }\n",
       "\n",
       "    .dataframe thead th {\n",
       "        text-align: right;\n",
       "    }\n",
       "</style>\n",
       "<table border=\"1\" class=\"dataframe\">\n",
       "  <thead>\n",
       "    <tr style=\"text-align: right;\">\n",
       "      <th></th>\n",
       "      <th>tweet_id</th>\n",
       "      <th>in_reply_to_status_id</th>\n",
       "      <th>in_reply_to_user_id</th>\n",
       "      <th>timestamp</th>\n",
       "      <th>source</th>\n",
       "      <th>text</th>\n",
       "      <th>retweeted_status_id</th>\n",
       "      <th>retweeted_status_user_id</th>\n",
       "      <th>retweeted_status_timestamp</th>\n",
       "      <th>expanded_urls</th>\n",
       "      <th>rating_numerator</th>\n",
       "      <th>rating_denominator</th>\n",
       "      <th>name</th>\n",
       "      <th>doggo</th>\n",
       "      <th>floofer</th>\n",
       "      <th>pupper</th>\n",
       "      <th>puppo</th>\n",
       "    </tr>\n",
       "  </thead>\n",
       "  <tbody>\n",
       "    <tr>\n",
       "      <th>852</th>\n",
       "      <td>765395769549590528</td>\n",
       "      <td>NaN</td>\n",
       "      <td>NaN</td>\n",
       "      <td>2016-08-16 03:52:26 +0000</td>\n",
       "      <td>&lt;a href=\"http://twitter.com/download/iphone\" r...</td>\n",
       "      <td>This is my dog. Her name is Zoey. She knows I'...</td>\n",
       "      <td>NaN</td>\n",
       "      <td>NaN</td>\n",
       "      <td>NaN</td>\n",
       "      <td>https://twitter.com/dog_rates/status/765395769...</td>\n",
       "      <td>13</td>\n",
       "      <td>10</td>\n",
       "      <td>my</td>\n",
       "      <td>None</td>\n",
       "      <td>None</td>\n",
       "      <td>None</td>\n",
       "      <td>None</td>\n",
       "    </tr>\n",
       "    <tr>\n",
       "      <th>219</th>\n",
       "      <td>850145622816686080</td>\n",
       "      <td>NaN</td>\n",
       "      <td>NaN</td>\n",
       "      <td>2017-04-07 00:38:06 +0000</td>\n",
       "      <td>&lt;a href=\"http://twitter.com/download/iphone\" r...</td>\n",
       "      <td>This is Riley. He's making new friends. Jubila...</td>\n",
       "      <td>NaN</td>\n",
       "      <td>NaN</td>\n",
       "      <td>NaN</td>\n",
       "      <td>https://twitter.com/dog_rates/status/850145622...</td>\n",
       "      <td>11</td>\n",
       "      <td>10</td>\n",
       "      <td>Riley</td>\n",
       "      <td>None</td>\n",
       "      <td>None</td>\n",
       "      <td>None</td>\n",
       "      <td>None</td>\n",
       "    </tr>\n",
       "    <tr>\n",
       "      <th>553</th>\n",
       "      <td>804026241225523202</td>\n",
       "      <td>NaN</td>\n",
       "      <td>NaN</td>\n",
       "      <td>2016-11-30 18:16:08 +0000</td>\n",
       "      <td>&lt;a href=\"http://twitter.com/download/iphone\" r...</td>\n",
       "      <td>This is Bo. He's going to make me cry. 13/10 p...</td>\n",
       "      <td>NaN</td>\n",
       "      <td>NaN</td>\n",
       "      <td>NaN</td>\n",
       "      <td>https://twitter.com/dog_rates/status/804026241...</td>\n",
       "      <td>13</td>\n",
       "      <td>10</td>\n",
       "      <td>Bo</td>\n",
       "      <td>None</td>\n",
       "      <td>None</td>\n",
       "      <td>None</td>\n",
       "      <td>None</td>\n",
       "    </tr>\n",
       "    <tr>\n",
       "      <th>70</th>\n",
       "      <td>879008229531029506</td>\n",
       "      <td>NaN</td>\n",
       "      <td>NaN</td>\n",
       "      <td>2017-06-25 16:07:47 +0000</td>\n",
       "      <td>&lt;a href=\"http://twitter.com/download/iphone\" r...</td>\n",
       "      <td>This is Beau. That is Beau's balloon. He takes...</td>\n",
       "      <td>NaN</td>\n",
       "      <td>NaN</td>\n",
       "      <td>NaN</td>\n",
       "      <td>https://twitter.com/dog_rates/status/879008229...</td>\n",
       "      <td>13</td>\n",
       "      <td>10</td>\n",
       "      <td>Beau</td>\n",
       "      <td>None</td>\n",
       "      <td>None</td>\n",
       "      <td>None</td>\n",
       "      <td>None</td>\n",
       "    </tr>\n",
       "    <tr>\n",
       "      <th>389</th>\n",
       "      <td>826476773533745153</td>\n",
       "      <td>NaN</td>\n",
       "      <td>NaN</td>\n",
       "      <td>2017-01-31 17:06:32 +0000</td>\n",
       "      <td>&lt;a href=\"http://twitter.com/download/iphone\" r...</td>\n",
       "      <td>This is Pilot. He has mastered the synchronize...</td>\n",
       "      <td>NaN</td>\n",
       "      <td>NaN</td>\n",
       "      <td>NaN</td>\n",
       "      <td>https://twitter.com/dog_rates/status/826476773...</td>\n",
       "      <td>12</td>\n",
       "      <td>10</td>\n",
       "      <td>Pilot</td>\n",
       "      <td>doggo</td>\n",
       "      <td>None</td>\n",
       "      <td>None</td>\n",
       "      <td>None</td>\n",
       "    </tr>\n",
       "    <tr>\n",
       "      <th>430</th>\n",
       "      <td>821044531881721856</td>\n",
       "      <td>NaN</td>\n",
       "      <td>NaN</td>\n",
       "      <td>2017-01-16 17:20:45 +0000</td>\n",
       "      <td>&lt;a href=\"http://twitter.com/download/iphone\" r...</td>\n",
       "      <td>This is Flash. He went way too hard celebratin...</td>\n",
       "      <td>NaN</td>\n",
       "      <td>NaN</td>\n",
       "      <td>NaN</td>\n",
       "      <td>https://twitter.com/dog_rates/status/821044531...</td>\n",
       "      <td>12</td>\n",
       "      <td>10</td>\n",
       "      <td>Flash</td>\n",
       "      <td>None</td>\n",
       "      <td>None</td>\n",
       "      <td>None</td>\n",
       "      <td>None</td>\n",
       "    </tr>\n",
       "    <tr>\n",
       "      <th>331</th>\n",
       "      <td>832998151111966721</td>\n",
       "      <td>NaN</td>\n",
       "      <td>NaN</td>\n",
       "      <td>2017-02-18 17:00:10 +0000</td>\n",
       "      <td>&lt;a href=\"http://twitter.com/download/iphone\" r...</td>\n",
       "      <td>This is Rhino. He arrived at a shelter with an...</td>\n",
       "      <td>NaN</td>\n",
       "      <td>NaN</td>\n",
       "      <td>NaN</td>\n",
       "      <td>https://twitter.com/dog_rates/status/832998151...</td>\n",
       "      <td>13</td>\n",
       "      <td>10</td>\n",
       "      <td>Rhino</td>\n",
       "      <td>doggo</td>\n",
       "      <td>None</td>\n",
       "      <td>None</td>\n",
       "      <td>None</td>\n",
       "    </tr>\n",
       "    <tr>\n",
       "      <th>2028</th>\n",
       "      <td>671866342182637568</td>\n",
       "      <td>NaN</td>\n",
       "      <td>NaN</td>\n",
       "      <td>2015-12-02 01:39:53 +0000</td>\n",
       "      <td>&lt;a href=\"http://twitter.com/download/iphone\" r...</td>\n",
       "      <td>Meet Dylan. He can use a fork but clearly can'...</td>\n",
       "      <td>NaN</td>\n",
       "      <td>NaN</td>\n",
       "      <td>NaN</td>\n",
       "      <td>https://twitter.com/dog_rates/status/671866342...</td>\n",
       "      <td>10</td>\n",
       "      <td>10</td>\n",
       "      <td>Dylan</td>\n",
       "      <td>None</td>\n",
       "      <td>None</td>\n",
       "      <td>None</td>\n",
       "      <td>None</td>\n",
       "    </tr>\n",
       "    <tr>\n",
       "      <th>2204</th>\n",
       "      <td>668636665813057536</td>\n",
       "      <td>NaN</td>\n",
       "      <td>NaN</td>\n",
       "      <td>2015-11-23 03:46:18 +0000</td>\n",
       "      <td>&lt;a href=\"http://twitter.com/download/iphone\" r...</td>\n",
       "      <td>This is an Irish Rigatoni terrier named Berta....</td>\n",
       "      <td>NaN</td>\n",
       "      <td>NaN</td>\n",
       "      <td>NaN</td>\n",
       "      <td>https://twitter.com/dog_rates/status/668636665...</td>\n",
       "      <td>10</td>\n",
       "      <td>10</td>\n",
       "      <td>an</td>\n",
       "      <td>None</td>\n",
       "      <td>None</td>\n",
       "      <td>None</td>\n",
       "      <td>None</td>\n",
       "    </tr>\n",
       "    <tr>\n",
       "      <th>1191</th>\n",
       "      <td>717841801130979328</td>\n",
       "      <td>NaN</td>\n",
       "      <td>NaN</td>\n",
       "      <td>2016-04-06 22:29:56 +0000</td>\n",
       "      <td>&lt;a href=\"http://twitter.com/download/iphone\" r...</td>\n",
       "      <td>This is Barclay. His father was a banana. 11/1...</td>\n",
       "      <td>NaN</td>\n",
       "      <td>NaN</td>\n",
       "      <td>NaN</td>\n",
       "      <td>https://twitter.com/dog_rates/status/717841801...</td>\n",
       "      <td>11</td>\n",
       "      <td>10</td>\n",
       "      <td>Barclay</td>\n",
       "      <td>None</td>\n",
       "      <td>None</td>\n",
       "      <td>None</td>\n",
       "      <td>None</td>\n",
       "    </tr>\n",
       "    <tr>\n",
       "      <th>1444</th>\n",
       "      <td>696713835009417216</td>\n",
       "      <td>NaN</td>\n",
       "      <td>NaN</td>\n",
       "      <td>2016-02-08 15:14:57 +0000</td>\n",
       "      <td>&lt;a href=\"http://twitter.com/download/iphone\" r...</td>\n",
       "      <td>This is Trevith. He's a Swiss Mountain Roadwoo...</td>\n",
       "      <td>NaN</td>\n",
       "      <td>NaN</td>\n",
       "      <td>NaN</td>\n",
       "      <td>https://twitter.com/dog_rates/status/696713835...</td>\n",
       "      <td>9</td>\n",
       "      <td>10</td>\n",
       "      <td>Trevith</td>\n",
       "      <td>None</td>\n",
       "      <td>None</td>\n",
       "      <td>pupper</td>\n",
       "      <td>None</td>\n",
       "    </tr>\n",
       "    <tr>\n",
       "      <th>883</th>\n",
       "      <td>760252756032651264</td>\n",
       "      <td>NaN</td>\n",
       "      <td>NaN</td>\n",
       "      <td>2016-08-01 23:15:56 +0000</td>\n",
       "      <td>&lt;a href=\"http://twitter.com/download/iphone\" r...</td>\n",
       "      <td>This is Fido. He can tell the weather. Not goo...</td>\n",
       "      <td>NaN</td>\n",
       "      <td>NaN</td>\n",
       "      <td>NaN</td>\n",
       "      <td>https://twitter.com/dog_rates/status/760252756...</td>\n",
       "      <td>4</td>\n",
       "      <td>10</td>\n",
       "      <td>Fido</td>\n",
       "      <td>None</td>\n",
       "      <td>None</td>\n",
       "      <td>None</td>\n",
       "      <td>None</td>\n",
       "    </tr>\n",
       "    <tr>\n",
       "      <th>1890</th>\n",
       "      <td>674767892831932416</td>\n",
       "      <td>NaN</td>\n",
       "      <td>NaN</td>\n",
       "      <td>2015-12-10 01:49:36 +0000</td>\n",
       "      <td>&lt;a href=\"http://twitter.com/download/iphone\" r...</td>\n",
       "      <td>This pup was carefully tossed to make it look ...</td>\n",
       "      <td>NaN</td>\n",
       "      <td>NaN</td>\n",
       "      <td>NaN</td>\n",
       "      <td>https://twitter.com/dog_rates/status/674767892...</td>\n",
       "      <td>12</td>\n",
       "      <td>10</td>\n",
       "      <td>None</td>\n",
       "      <td>None</td>\n",
       "      <td>None</td>\n",
       "      <td>None</td>\n",
       "      <td>None</td>\n",
       "    </tr>\n",
       "    <tr>\n",
       "      <th>1722</th>\n",
       "      <td>680115823365742593</td>\n",
       "      <td>NaN</td>\n",
       "      <td>NaN</td>\n",
       "      <td>2015-12-24 20:00:22 +0000</td>\n",
       "      <td>&lt;a href=\"http://twitter.com/download/iphone\" r...</td>\n",
       "      <td>This is Ozzy. He woke up 2 minutes before he h...</td>\n",
       "      <td>NaN</td>\n",
       "      <td>NaN</td>\n",
       "      <td>NaN</td>\n",
       "      <td>https://twitter.com/dog_rates/status/680115823...</td>\n",
       "      <td>9</td>\n",
       "      <td>10</td>\n",
       "      <td>Ozzy</td>\n",
       "      <td>None</td>\n",
       "      <td>None</td>\n",
       "      <td>None</td>\n",
       "      <td>None</td>\n",
       "    </tr>\n",
       "    <tr>\n",
       "      <th>2064</th>\n",
       "      <td>671154572044468225</td>\n",
       "      <td>NaN</td>\n",
       "      <td>NaN</td>\n",
       "      <td>2015-11-30 02:31:34 +0000</td>\n",
       "      <td>&lt;a href=\"http://twitter.com/download/iphone\" r...</td>\n",
       "      <td>Meet Holly. She's trying to teach small human-...</td>\n",
       "      <td>NaN</td>\n",
       "      <td>NaN</td>\n",
       "      <td>NaN</td>\n",
       "      <td>https://twitter.com/dog_rates/status/671154572...</td>\n",
       "      <td>11</td>\n",
       "      <td>10</td>\n",
       "      <td>Holly</td>\n",
       "      <td>None</td>\n",
       "      <td>None</td>\n",
       "      <td>None</td>\n",
       "      <td>None</td>\n",
       "    </tr>\n",
       "  </tbody>\n",
       "</table>\n",
       "</div>"
      ],
      "text/plain": [
       "                tweet_id  in_reply_to_status_id  in_reply_to_user_id  \\\n",
       "852   765395769549590528                    NaN                  NaN   \n",
       "219   850145622816686080                    NaN                  NaN   \n",
       "553   804026241225523202                    NaN                  NaN   \n",
       "70    879008229531029506                    NaN                  NaN   \n",
       "389   826476773533745153                    NaN                  NaN   \n",
       "430   821044531881721856                    NaN                  NaN   \n",
       "331   832998151111966721                    NaN                  NaN   \n",
       "2028  671866342182637568                    NaN                  NaN   \n",
       "2204  668636665813057536                    NaN                  NaN   \n",
       "1191  717841801130979328                    NaN                  NaN   \n",
       "1444  696713835009417216                    NaN                  NaN   \n",
       "883   760252756032651264                    NaN                  NaN   \n",
       "1890  674767892831932416                    NaN                  NaN   \n",
       "1722  680115823365742593                    NaN                  NaN   \n",
       "2064  671154572044468225                    NaN                  NaN   \n",
       "\n",
       "                      timestamp  \\\n",
       "852   2016-08-16 03:52:26 +0000   \n",
       "219   2017-04-07 00:38:06 +0000   \n",
       "553   2016-11-30 18:16:08 +0000   \n",
       "70    2017-06-25 16:07:47 +0000   \n",
       "389   2017-01-31 17:06:32 +0000   \n",
       "430   2017-01-16 17:20:45 +0000   \n",
       "331   2017-02-18 17:00:10 +0000   \n",
       "2028  2015-12-02 01:39:53 +0000   \n",
       "2204  2015-11-23 03:46:18 +0000   \n",
       "1191  2016-04-06 22:29:56 +0000   \n",
       "1444  2016-02-08 15:14:57 +0000   \n",
       "883   2016-08-01 23:15:56 +0000   \n",
       "1890  2015-12-10 01:49:36 +0000   \n",
       "1722  2015-12-24 20:00:22 +0000   \n",
       "2064  2015-11-30 02:31:34 +0000   \n",
       "\n",
       "                                                 source  \\\n",
       "852   <a href=\"http://twitter.com/download/iphone\" r...   \n",
       "219   <a href=\"http://twitter.com/download/iphone\" r...   \n",
       "553   <a href=\"http://twitter.com/download/iphone\" r...   \n",
       "70    <a href=\"http://twitter.com/download/iphone\" r...   \n",
       "389   <a href=\"http://twitter.com/download/iphone\" r...   \n",
       "430   <a href=\"http://twitter.com/download/iphone\" r...   \n",
       "331   <a href=\"http://twitter.com/download/iphone\" r...   \n",
       "2028  <a href=\"http://twitter.com/download/iphone\" r...   \n",
       "2204  <a href=\"http://twitter.com/download/iphone\" r...   \n",
       "1191  <a href=\"http://twitter.com/download/iphone\" r...   \n",
       "1444  <a href=\"http://twitter.com/download/iphone\" r...   \n",
       "883   <a href=\"http://twitter.com/download/iphone\" r...   \n",
       "1890  <a href=\"http://twitter.com/download/iphone\" r...   \n",
       "1722  <a href=\"http://twitter.com/download/iphone\" r...   \n",
       "2064  <a href=\"http://twitter.com/download/iphone\" r...   \n",
       "\n",
       "                                                   text  retweeted_status_id  \\\n",
       "852   This is my dog. Her name is Zoey. She knows I'...                  NaN   \n",
       "219   This is Riley. He's making new friends. Jubila...                  NaN   \n",
       "553   This is Bo. He's going to make me cry. 13/10 p...                  NaN   \n",
       "70    This is Beau. That is Beau's balloon. He takes...                  NaN   \n",
       "389   This is Pilot. He has mastered the synchronize...                  NaN   \n",
       "430   This is Flash. He went way too hard celebratin...                  NaN   \n",
       "331   This is Rhino. He arrived at a shelter with an...                  NaN   \n",
       "2028  Meet Dylan. He can use a fork but clearly can'...                  NaN   \n",
       "2204  This is an Irish Rigatoni terrier named Berta....                  NaN   \n",
       "1191  This is Barclay. His father was a banana. 11/1...                  NaN   \n",
       "1444  This is Trevith. He's a Swiss Mountain Roadwoo...                  NaN   \n",
       "883   This is Fido. He can tell the weather. Not goo...                  NaN   \n",
       "1890  This pup was carefully tossed to make it look ...                  NaN   \n",
       "1722  This is Ozzy. He woke up 2 minutes before he h...                  NaN   \n",
       "2064  Meet Holly. She's trying to teach small human-...                  NaN   \n",
       "\n",
       "      retweeted_status_user_id retweeted_status_timestamp  \\\n",
       "852                        NaN                        NaN   \n",
       "219                        NaN                        NaN   \n",
       "553                        NaN                        NaN   \n",
       "70                         NaN                        NaN   \n",
       "389                        NaN                        NaN   \n",
       "430                        NaN                        NaN   \n",
       "331                        NaN                        NaN   \n",
       "2028                       NaN                        NaN   \n",
       "2204                       NaN                        NaN   \n",
       "1191                       NaN                        NaN   \n",
       "1444                       NaN                        NaN   \n",
       "883                        NaN                        NaN   \n",
       "1890                       NaN                        NaN   \n",
       "1722                       NaN                        NaN   \n",
       "2064                       NaN                        NaN   \n",
       "\n",
       "                                          expanded_urls  rating_numerator  \\\n",
       "852   https://twitter.com/dog_rates/status/765395769...                13   \n",
       "219   https://twitter.com/dog_rates/status/850145622...                11   \n",
       "553   https://twitter.com/dog_rates/status/804026241...                13   \n",
       "70    https://twitter.com/dog_rates/status/879008229...                13   \n",
       "389   https://twitter.com/dog_rates/status/826476773...                12   \n",
       "430   https://twitter.com/dog_rates/status/821044531...                12   \n",
       "331   https://twitter.com/dog_rates/status/832998151...                13   \n",
       "2028  https://twitter.com/dog_rates/status/671866342...                10   \n",
       "2204  https://twitter.com/dog_rates/status/668636665...                10   \n",
       "1191  https://twitter.com/dog_rates/status/717841801...                11   \n",
       "1444  https://twitter.com/dog_rates/status/696713835...                 9   \n",
       "883   https://twitter.com/dog_rates/status/760252756...                 4   \n",
       "1890  https://twitter.com/dog_rates/status/674767892...                12   \n",
       "1722  https://twitter.com/dog_rates/status/680115823...                 9   \n",
       "2064  https://twitter.com/dog_rates/status/671154572...                11   \n",
       "\n",
       "      rating_denominator     name  doggo floofer  pupper puppo  \n",
       "852                   10       my   None    None    None  None  \n",
       "219                   10    Riley   None    None    None  None  \n",
       "553                   10       Bo   None    None    None  None  \n",
       "70                    10     Beau   None    None    None  None  \n",
       "389                   10    Pilot  doggo    None    None  None  \n",
       "430                   10    Flash   None    None    None  None  \n",
       "331                   10    Rhino  doggo    None    None  None  \n",
       "2028                  10    Dylan   None    None    None  None  \n",
       "2204                  10       an   None    None    None  None  \n",
       "1191                  10  Barclay   None    None    None  None  \n",
       "1444                  10  Trevith   None    None  pupper  None  \n",
       "883                   10     Fido   None    None    None  None  \n",
       "1890                  10     None   None    None    None  None  \n",
       "1722                  10     Ozzy   None    None    None  None  \n",
       "2064                  10    Holly   None    None    None  None  "
      ]
     },
     "execution_count": 5,
     "metadata": {},
     "output_type": "execute_result"
    }
   ],
   "source": [
    "df_twitter.sample(15)"
   ]
  },
  {
   "cell_type": "code",
   "execution_count": 6,
   "metadata": {},
   "outputs": [
    {
     "data": {
      "text/html": [
       "<div>\n",
       "<style scoped>\n",
       "    .dataframe tbody tr th:only-of-type {\n",
       "        vertical-align: middle;\n",
       "    }\n",
       "\n",
       "    .dataframe tbody tr th {\n",
       "        vertical-align: top;\n",
       "    }\n",
       "\n",
       "    .dataframe thead th {\n",
       "        text-align: right;\n",
       "    }\n",
       "</style>\n",
       "<table border=\"1\" class=\"dataframe\">\n",
       "  <thead>\n",
       "    <tr style=\"text-align: right;\">\n",
       "      <th></th>\n",
       "      <th>tweet_id</th>\n",
       "      <th>jpg_url</th>\n",
       "      <th>img_num</th>\n",
       "      <th>p1</th>\n",
       "      <th>p1_conf</th>\n",
       "      <th>p1_dog</th>\n",
       "      <th>p2</th>\n",
       "      <th>p2_conf</th>\n",
       "      <th>p2_dog</th>\n",
       "      <th>p3</th>\n",
       "      <th>p3_conf</th>\n",
       "      <th>p3_dog</th>\n",
       "    </tr>\n",
       "  </thead>\n",
       "  <tbody>\n",
       "    <tr>\n",
       "      <th>586</th>\n",
       "      <td>679047485189439488</td>\n",
       "      <td>https://pbs.twimg.com/media/CWx2FaLWcAEQ3vh.jpg</td>\n",
       "      <td>1</td>\n",
       "      <td>panpipe</td>\n",
       "      <td>0.962572</td>\n",
       "      <td>False</td>\n",
       "      <td>bannister</td>\n",
       "      <td>0.025248</td>\n",
       "      <td>False</td>\n",
       "      <td>golden_retriever</td>\n",
       "      <td>0.002930</td>\n",
       "      <td>True</td>\n",
       "    </tr>\n",
       "    <tr>\n",
       "      <th>1729</th>\n",
       "      <td>820749716845686786</td>\n",
       "      <td>https://pbs.twimg.com/media/C2PjgjQXcAAc4Uu.jpg</td>\n",
       "      <td>2</td>\n",
       "      <td>golden_retriever</td>\n",
       "      <td>0.838012</td>\n",
       "      <td>True</td>\n",
       "      <td>Pekinese</td>\n",
       "      <td>0.056733</td>\n",
       "      <td>True</td>\n",
       "      <td>Labrador_retriever</td>\n",
       "      <td>0.023944</td>\n",
       "      <td>True</td>\n",
       "    </tr>\n",
       "    <tr>\n",
       "      <th>707</th>\n",
       "      <td>685169283572338688</td>\n",
       "      <td>https://pbs.twimg.com/media/CYI10WhWsAAjzii.jpg</td>\n",
       "      <td>1</td>\n",
       "      <td>Bernese_mountain_dog</td>\n",
       "      <td>0.975096</td>\n",
       "      <td>True</td>\n",
       "      <td>Appenzeller</td>\n",
       "      <td>0.014578</td>\n",
       "      <td>True</td>\n",
       "      <td>EntleBucher</td>\n",
       "      <td>0.005943</td>\n",
       "      <td>True</td>\n",
       "    </tr>\n",
       "    <tr>\n",
       "      <th>1171</th>\n",
       "      <td>736365877722001409</td>\n",
       "      <td>https://pbs.twimg.com/media/CjgYyuvWkAAHU8g.jpg</td>\n",
       "      <td>3</td>\n",
       "      <td>cup</td>\n",
       "      <td>0.473555</td>\n",
       "      <td>False</td>\n",
       "      <td>toy_poodle</td>\n",
       "      <td>0.082606</td>\n",
       "      <td>True</td>\n",
       "      <td>consomme</td>\n",
       "      <td>0.048298</td>\n",
       "      <td>False</td>\n",
       "    </tr>\n",
       "    <tr>\n",
       "      <th>981</th>\n",
       "      <td>707377100785885184</td>\n",
       "      <td>https://pbs.twimg.com/media/CdEbt0NXIAQH3Aa.jpg</td>\n",
       "      <td>1</td>\n",
       "      <td>golden_retriever</td>\n",
       "      <td>0.637225</td>\n",
       "      <td>True</td>\n",
       "      <td>bloodhound</td>\n",
       "      <td>0.094542</td>\n",
       "      <td>True</td>\n",
       "      <td>cocker_spaniel</td>\n",
       "      <td>0.069797</td>\n",
       "      <td>True</td>\n",
       "    </tr>\n",
       "    <tr>\n",
       "      <th>760</th>\n",
       "      <td>688828561667567616</td>\n",
       "      <td>https://pbs.twimg.com/media/CY816snW8AYltrQ.jpg</td>\n",
       "      <td>1</td>\n",
       "      <td>Cardigan</td>\n",
       "      <td>0.614231</td>\n",
       "      <td>True</td>\n",
       "      <td>skunk</td>\n",
       "      <td>0.139392</td>\n",
       "      <td>False</td>\n",
       "      <td>toilet_tissue</td>\n",
       "      <td>0.031158</td>\n",
       "      <td>False</td>\n",
       "    </tr>\n",
       "    <tr>\n",
       "      <th>1546</th>\n",
       "      <td>792394556390137856</td>\n",
       "      <td>https://pbs.twimg.com/media/Cv8moW9W8AIHOxR.jpg</td>\n",
       "      <td>2</td>\n",
       "      <td>cocker_spaniel</td>\n",
       "      <td>0.746387</td>\n",
       "      <td>True</td>\n",
       "      <td>Irish_setter</td>\n",
       "      <td>0.091615</td>\n",
       "      <td>True</td>\n",
       "      <td>miniature_poodle</td>\n",
       "      <td>0.061078</td>\n",
       "      <td>True</td>\n",
       "    </tr>\n",
       "    <tr>\n",
       "      <th>82</th>\n",
       "      <td>667491009379606528</td>\n",
       "      <td>https://pbs.twimg.com/media/CUNniSlUYAEj1Jl.jpg</td>\n",
       "      <td>1</td>\n",
       "      <td>borzoi</td>\n",
       "      <td>0.852088</td>\n",
       "      <td>True</td>\n",
       "      <td>ice_bear</td>\n",
       "      <td>0.132264</td>\n",
       "      <td>False</td>\n",
       "      <td>weasel</td>\n",
       "      <td>0.005730</td>\n",
       "      <td>False</td>\n",
       "    </tr>\n",
       "    <tr>\n",
       "      <th>1849</th>\n",
       "      <td>839990271299457024</td>\n",
       "      <td>https://pbs.twimg.com/media/C6g-sX-VsAAHfJ9.jpg</td>\n",
       "      <td>2</td>\n",
       "      <td>Staffordshire_bullterrier</td>\n",
       "      <td>0.604938</td>\n",
       "      <td>True</td>\n",
       "      <td>American_Staffordshire_terrier</td>\n",
       "      <td>0.311540</td>\n",
       "      <td>True</td>\n",
       "      <td>Boston_bull</td>\n",
       "      <td>0.037159</td>\n",
       "      <td>True</td>\n",
       "    </tr>\n",
       "    <tr>\n",
       "      <th>1880</th>\n",
       "      <td>846874817362120707</td>\n",
       "      <td>https://pbs.twimg.com/media/C8C0JYHW0AAy-7u.jpg</td>\n",
       "      <td>2</td>\n",
       "      <td>Shetland_sheepdog</td>\n",
       "      <td>0.450539</td>\n",
       "      <td>True</td>\n",
       "      <td>papillon</td>\n",
       "      <td>0.187928</td>\n",
       "      <td>True</td>\n",
       "      <td>collie</td>\n",
       "      <td>0.140068</td>\n",
       "      <td>True</td>\n",
       "    </tr>\n",
       "    <tr>\n",
       "      <th>902</th>\n",
       "      <td>700029284593901568</td>\n",
       "      <td>https://pbs.twimg.com/media/CbcA673XIAAsytQ.jpg</td>\n",
       "      <td>1</td>\n",
       "      <td>West_Highland_white_terrier</td>\n",
       "      <td>0.726571</td>\n",
       "      <td>True</td>\n",
       "      <td>Maltese_dog</td>\n",
       "      <td>0.176828</td>\n",
       "      <td>True</td>\n",
       "      <td>Dandie_Dinmont</td>\n",
       "      <td>0.070134</td>\n",
       "      <td>True</td>\n",
       "    </tr>\n",
       "    <tr>\n",
       "      <th>104</th>\n",
       "      <td>667832474953625600</td>\n",
       "      <td>https://pbs.twimg.com/media/CUSeGFNW4AAyyHC.jpg</td>\n",
       "      <td>1</td>\n",
       "      <td>miniature_pinscher</td>\n",
       "      <td>0.214200</td>\n",
       "      <td>True</td>\n",
       "      <td>bath_towel</td>\n",
       "      <td>0.146789</td>\n",
       "      <td>False</td>\n",
       "      <td>Chihuahua</td>\n",
       "      <td>0.104152</td>\n",
       "      <td>True</td>\n",
       "    </tr>\n",
       "    <tr>\n",
       "      <th>163</th>\n",
       "      <td>668960084974809088</td>\n",
       "      <td>https://pbs.twimg.com/media/CUifpn4WUAAS5X3.jpg</td>\n",
       "      <td>1</td>\n",
       "      <td>shower_curtain</td>\n",
       "      <td>0.226309</td>\n",
       "      <td>False</td>\n",
       "      <td>Chesapeake_Bay_retriever</td>\n",
       "      <td>0.165878</td>\n",
       "      <td>True</td>\n",
       "      <td>bathtub</td>\n",
       "      <td>0.056726</td>\n",
       "      <td>False</td>\n",
       "    </tr>\n",
       "    <tr>\n",
       "      <th>1285</th>\n",
       "      <td>750719632563142656</td>\n",
       "      <td>https://pbs.twimg.com/media/CmsXg9AWgAAs6Ui.jpg</td>\n",
       "      <td>1</td>\n",
       "      <td>Pembroke</td>\n",
       "      <td>0.972587</td>\n",
       "      <td>True</td>\n",
       "      <td>Cardigan</td>\n",
       "      <td>0.014772</td>\n",
       "      <td>True</td>\n",
       "      <td>basenji</td>\n",
       "      <td>0.005798</td>\n",
       "      <td>True</td>\n",
       "    </tr>\n",
       "    <tr>\n",
       "      <th>237</th>\n",
       "      <td>670433248821026816</td>\n",
       "      <td>https://pbs.twimg.com/media/CU3be0SWEAEqb7I.jpg</td>\n",
       "      <td>1</td>\n",
       "      <td>window_shade</td>\n",
       "      <td>0.583427</td>\n",
       "      <td>False</td>\n",
       "      <td>giant_schnauzer</td>\n",
       "      <td>0.062215</td>\n",
       "      <td>True</td>\n",
       "      <td>window_screen</td>\n",
       "      <td>0.039941</td>\n",
       "      <td>False</td>\n",
       "    </tr>\n",
       "  </tbody>\n",
       "</table>\n",
       "</div>"
      ],
      "text/plain": [
       "                tweet_id                                          jpg_url  \\\n",
       "586   679047485189439488  https://pbs.twimg.com/media/CWx2FaLWcAEQ3vh.jpg   \n",
       "1729  820749716845686786  https://pbs.twimg.com/media/C2PjgjQXcAAc4Uu.jpg   \n",
       "707   685169283572338688  https://pbs.twimg.com/media/CYI10WhWsAAjzii.jpg   \n",
       "1171  736365877722001409  https://pbs.twimg.com/media/CjgYyuvWkAAHU8g.jpg   \n",
       "981   707377100785885184  https://pbs.twimg.com/media/CdEbt0NXIAQH3Aa.jpg   \n",
       "760   688828561667567616  https://pbs.twimg.com/media/CY816snW8AYltrQ.jpg   \n",
       "1546  792394556390137856  https://pbs.twimg.com/media/Cv8moW9W8AIHOxR.jpg   \n",
       "82    667491009379606528  https://pbs.twimg.com/media/CUNniSlUYAEj1Jl.jpg   \n",
       "1849  839990271299457024  https://pbs.twimg.com/media/C6g-sX-VsAAHfJ9.jpg   \n",
       "1880  846874817362120707  https://pbs.twimg.com/media/C8C0JYHW0AAy-7u.jpg   \n",
       "902   700029284593901568  https://pbs.twimg.com/media/CbcA673XIAAsytQ.jpg   \n",
       "104   667832474953625600  https://pbs.twimg.com/media/CUSeGFNW4AAyyHC.jpg   \n",
       "163   668960084974809088  https://pbs.twimg.com/media/CUifpn4WUAAS5X3.jpg   \n",
       "1285  750719632563142656  https://pbs.twimg.com/media/CmsXg9AWgAAs6Ui.jpg   \n",
       "237   670433248821026816  https://pbs.twimg.com/media/CU3be0SWEAEqb7I.jpg   \n",
       "\n",
       "      img_num                           p1   p1_conf  p1_dog  \\\n",
       "586         1                      panpipe  0.962572   False   \n",
       "1729        2             golden_retriever  0.838012    True   \n",
       "707         1         Bernese_mountain_dog  0.975096    True   \n",
       "1171        3                          cup  0.473555   False   \n",
       "981         1             golden_retriever  0.637225    True   \n",
       "760         1                     Cardigan  0.614231    True   \n",
       "1546        2               cocker_spaniel  0.746387    True   \n",
       "82          1                       borzoi  0.852088    True   \n",
       "1849        2    Staffordshire_bullterrier  0.604938    True   \n",
       "1880        2            Shetland_sheepdog  0.450539    True   \n",
       "902         1  West_Highland_white_terrier  0.726571    True   \n",
       "104         1           miniature_pinscher  0.214200    True   \n",
       "163         1               shower_curtain  0.226309   False   \n",
       "1285        1                     Pembroke  0.972587    True   \n",
       "237         1                 window_shade  0.583427   False   \n",
       "\n",
       "                                  p2   p2_conf  p2_dog                  p3  \\\n",
       "586                        bannister  0.025248   False    golden_retriever   \n",
       "1729                        Pekinese  0.056733    True  Labrador_retriever   \n",
       "707                      Appenzeller  0.014578    True         EntleBucher   \n",
       "1171                      toy_poodle  0.082606    True            consomme   \n",
       "981                       bloodhound  0.094542    True      cocker_spaniel   \n",
       "760                            skunk  0.139392   False       toilet_tissue   \n",
       "1546                    Irish_setter  0.091615    True    miniature_poodle   \n",
       "82                          ice_bear  0.132264   False              weasel   \n",
       "1849  American_Staffordshire_terrier  0.311540    True         Boston_bull   \n",
       "1880                        papillon  0.187928    True              collie   \n",
       "902                      Maltese_dog  0.176828    True      Dandie_Dinmont   \n",
       "104                       bath_towel  0.146789   False           Chihuahua   \n",
       "163         Chesapeake_Bay_retriever  0.165878    True             bathtub   \n",
       "1285                        Cardigan  0.014772    True             basenji   \n",
       "237                  giant_schnauzer  0.062215    True       window_screen   \n",
       "\n",
       "       p3_conf  p3_dog  \n",
       "586   0.002930    True  \n",
       "1729  0.023944    True  \n",
       "707   0.005943    True  \n",
       "1171  0.048298   False  \n",
       "981   0.069797    True  \n",
       "760   0.031158   False  \n",
       "1546  0.061078    True  \n",
       "82    0.005730   False  \n",
       "1849  0.037159    True  \n",
       "1880  0.140068    True  \n",
       "902   0.070134    True  \n",
       "104   0.104152    True  \n",
       "163   0.056726   False  \n",
       "1285  0.005798    True  \n",
       "237   0.039941   False  "
      ]
     },
     "execution_count": 6,
     "metadata": {},
     "output_type": "execute_result"
    }
   ],
   "source": [
    "df_image.sample(15)"
   ]
  },
  {
   "cell_type": "code",
   "execution_count": 7,
   "metadata": {},
   "outputs": [
    {
     "data": {
      "text/html": [
       "<div>\n",
       "<style scoped>\n",
       "    .dataframe tbody tr th:only-of-type {\n",
       "        vertical-align: middle;\n",
       "    }\n",
       "\n",
       "    .dataframe tbody tr th {\n",
       "        vertical-align: top;\n",
       "    }\n",
       "\n",
       "    .dataframe thead th {\n",
       "        text-align: right;\n",
       "    }\n",
       "</style>\n",
       "<table border=\"1\" class=\"dataframe\">\n",
       "  <thead>\n",
       "    <tr style=\"text-align: right;\">\n",
       "      <th></th>\n",
       "      <th>tweet_id</th>\n",
       "      <th>favorite</th>\n",
       "      <th>retweet</th>\n",
       "    </tr>\n",
       "  </thead>\n",
       "  <tbody>\n",
       "    <tr>\n",
       "      <th>291</th>\n",
       "      <td>835685285446955009</td>\n",
       "      <td>0</td>\n",
       "      <td>7502</td>\n",
       "    </tr>\n",
       "    <tr>\n",
       "      <th>1085</th>\n",
       "      <td>733109485275860992</td>\n",
       "      <td>49728</td>\n",
       "      <td>15638</td>\n",
       "    </tr>\n",
       "    <tr>\n",
       "      <th>2000</th>\n",
       "      <td>671855973984772097</td>\n",
       "      <td>799</td>\n",
       "      <td>376</td>\n",
       "    </tr>\n",
       "    <tr>\n",
       "      <th>1309</th>\n",
       "      <td>705102439679201280</td>\n",
       "      <td>1984</td>\n",
       "      <td>478</td>\n",
       "    </tr>\n",
       "    <tr>\n",
       "      <th>1803</th>\n",
       "      <td>676191832485810177</td>\n",
       "      <td>2070</td>\n",
       "      <td>929</td>\n",
       "    </tr>\n",
       "    <tr>\n",
       "      <th>188</th>\n",
       "      <td>854482394044301312</td>\n",
       "      <td>26817</td>\n",
       "      <td>6061</td>\n",
       "    </tr>\n",
       "    <tr>\n",
       "      <th>201</th>\n",
       "      <td>852189679701164033</td>\n",
       "      <td>10651</td>\n",
       "      <td>1437</td>\n",
       "    </tr>\n",
       "    <tr>\n",
       "      <th>1261</th>\n",
       "      <td>708149363256774660</td>\n",
       "      <td>4014</td>\n",
       "      <td>1422</td>\n",
       "    </tr>\n",
       "    <tr>\n",
       "      <th>2214</th>\n",
       "      <td>667902449697558528</td>\n",
       "      <td>765</td>\n",
       "      <td>337</td>\n",
       "    </tr>\n",
       "    <tr>\n",
       "      <th>582</th>\n",
       "      <td>798644042770751489</td>\n",
       "      <td>0</td>\n",
       "      <td>1749</td>\n",
       "    </tr>\n",
       "    <tr>\n",
       "      <th>1051</th>\n",
       "      <td>739238157791694849</td>\n",
       "      <td>107882</td>\n",
       "      <td>53252</td>\n",
       "    </tr>\n",
       "    <tr>\n",
       "      <th>646</th>\n",
       "      <td>790581949425475584</td>\n",
       "      <td>19714</td>\n",
       "      <td>6702</td>\n",
       "    </tr>\n",
       "    <tr>\n",
       "      <th>918</th>\n",
       "      <td>752568224206688256</td>\n",
       "      <td>5152</td>\n",
       "      <td>2104</td>\n",
       "    </tr>\n",
       "    <tr>\n",
       "      <th>1329</th>\n",
       "      <td>703407252292673536</td>\n",
       "      <td>2272</td>\n",
       "      <td>626</td>\n",
       "    </tr>\n",
       "    <tr>\n",
       "      <th>1580</th>\n",
       "      <td>685641971164143616</td>\n",
       "      <td>2710</td>\n",
       "      <td>701</td>\n",
       "    </tr>\n",
       "  </tbody>\n",
       "</table>\n",
       "</div>"
      ],
      "text/plain": [
       "                tweet_id  favorite  retweet\n",
       "291   835685285446955009         0     7502\n",
       "1085  733109485275860992     49728    15638\n",
       "2000  671855973984772097       799      376\n",
       "1309  705102439679201280      1984      478\n",
       "1803  676191832485810177      2070      929\n",
       "188   854482394044301312     26817     6061\n",
       "201   852189679701164033     10651     1437\n",
       "1261  708149363256774660      4014     1422\n",
       "2214  667902449697558528       765      337\n",
       "582   798644042770751489         0     1749\n",
       "1051  739238157791694849    107882    53252\n",
       "646   790581949425475584     19714     6702\n",
       "918   752568224206688256      5152     2104\n",
       "1329  703407252292673536      2272      626\n",
       "1580  685641971164143616      2710      701"
      ]
     },
     "execution_count": 7,
     "metadata": {},
     "output_type": "execute_result"
    }
   ],
   "source": [
    "df_tweets.sample(15)"
   ]
  },
  {
   "cell_type": "markdown",
   "metadata": {},
   "source": [
    "### Programmatic assessment"
   ]
  },
  {
   "cell_type": "code",
   "execution_count": 8,
   "metadata": {},
   "outputs": [
    {
     "name": "stdout",
     "output_type": "stream",
     "text": [
      "<class 'pandas.core.frame.DataFrame'>\n",
      "RangeIndex: 2356 entries, 0 to 2355\n",
      "Data columns (total 17 columns):\n",
      " #   Column                      Non-Null Count  Dtype  \n",
      "---  ------                      --------------  -----  \n",
      " 0   tweet_id                    2356 non-null   int64  \n",
      " 1   in_reply_to_status_id       78 non-null     float64\n",
      " 2   in_reply_to_user_id         78 non-null     float64\n",
      " 3   timestamp                   2356 non-null   object \n",
      " 4   source                      2356 non-null   object \n",
      " 5   text                        2356 non-null   object \n",
      " 6   retweeted_status_id         181 non-null    float64\n",
      " 7   retweeted_status_user_id    181 non-null    float64\n",
      " 8   retweeted_status_timestamp  181 non-null    object \n",
      " 9   expanded_urls               2297 non-null   object \n",
      " 10  rating_numerator            2356 non-null   int64  \n",
      " 11  rating_denominator          2356 non-null   int64  \n",
      " 12  name                        2356 non-null   object \n",
      " 13  doggo                       2356 non-null   object \n",
      " 14  floofer                     2356 non-null   object \n",
      " 15  pupper                      2356 non-null   object \n",
      " 16  puppo                       2356 non-null   object \n",
      "dtypes: float64(4), int64(3), object(10)\n",
      "memory usage: 313.0+ KB\n"
     ]
    }
   ],
   "source": [
    "df_twitter.info()"
   ]
  },
  {
   "cell_type": "code",
   "execution_count": 9,
   "metadata": {},
   "outputs": [
    {
     "name": "stdout",
     "output_type": "stream",
     "text": [
      " Number of duplicated tweets are :    0\n",
      " Number of tweets with same time stamp :    0\n",
      " Number of tweets that doesn't contains text :   0\n",
      " Number of tweets that thier URLs are expanded :    59\n",
      " Number of tweets 2356\n",
      " There are 745 dogs without names\n"
     ]
    },
    {
     "data": {
      "text/html": [
       "<div>\n",
       "<style scoped>\n",
       "    .dataframe tbody tr th:only-of-type {\n",
       "        vertical-align: middle;\n",
       "    }\n",
       "\n",
       "    .dataframe tbody tr th {\n",
       "        vertical-align: top;\n",
       "    }\n",
       "\n",
       "    .dataframe thead th {\n",
       "        text-align: right;\n",
       "    }\n",
       "</style>\n",
       "<table border=\"1\" class=\"dataframe\">\n",
       "  <thead>\n",
       "    <tr style=\"text-align: right;\">\n",
       "      <th></th>\n",
       "      <th>tweet_id</th>\n",
       "      <th>in_reply_to_status_id</th>\n",
       "      <th>in_reply_to_user_id</th>\n",
       "      <th>retweeted_status_id</th>\n",
       "      <th>retweeted_status_user_id</th>\n",
       "      <th>rating_numerator</th>\n",
       "      <th>rating_denominator</th>\n",
       "    </tr>\n",
       "  </thead>\n",
       "  <tbody>\n",
       "    <tr>\n",
       "      <th>count</th>\n",
       "      <td>2.356000e+03</td>\n",
       "      <td>7.800000e+01</td>\n",
       "      <td>7.800000e+01</td>\n",
       "      <td>1.810000e+02</td>\n",
       "      <td>1.810000e+02</td>\n",
       "      <td>2356.000000</td>\n",
       "      <td>2356.000000</td>\n",
       "    </tr>\n",
       "    <tr>\n",
       "      <th>mean</th>\n",
       "      <td>7.427716e+17</td>\n",
       "      <td>7.455079e+17</td>\n",
       "      <td>2.014171e+16</td>\n",
       "      <td>7.720400e+17</td>\n",
       "      <td>1.241698e+16</td>\n",
       "      <td>13.126486</td>\n",
       "      <td>10.455433</td>\n",
       "    </tr>\n",
       "    <tr>\n",
       "      <th>std</th>\n",
       "      <td>6.856705e+16</td>\n",
       "      <td>7.582492e+16</td>\n",
       "      <td>1.252797e+17</td>\n",
       "      <td>6.236928e+16</td>\n",
       "      <td>9.599254e+16</td>\n",
       "      <td>45.876648</td>\n",
       "      <td>6.745237</td>\n",
       "    </tr>\n",
       "    <tr>\n",
       "      <th>min</th>\n",
       "      <td>6.660209e+17</td>\n",
       "      <td>6.658147e+17</td>\n",
       "      <td>1.185634e+07</td>\n",
       "      <td>6.661041e+17</td>\n",
       "      <td>7.832140e+05</td>\n",
       "      <td>0.000000</td>\n",
       "      <td>0.000000</td>\n",
       "    </tr>\n",
       "    <tr>\n",
       "      <th>25%</th>\n",
       "      <td>6.783989e+17</td>\n",
       "      <td>6.757419e+17</td>\n",
       "      <td>3.086374e+08</td>\n",
       "      <td>7.186315e+17</td>\n",
       "      <td>4.196984e+09</td>\n",
       "      <td>10.000000</td>\n",
       "      <td>10.000000</td>\n",
       "    </tr>\n",
       "    <tr>\n",
       "      <th>50%</th>\n",
       "      <td>7.196279e+17</td>\n",
       "      <td>7.038708e+17</td>\n",
       "      <td>4.196984e+09</td>\n",
       "      <td>7.804657e+17</td>\n",
       "      <td>4.196984e+09</td>\n",
       "      <td>11.000000</td>\n",
       "      <td>10.000000</td>\n",
       "    </tr>\n",
       "    <tr>\n",
       "      <th>75%</th>\n",
       "      <td>7.993373e+17</td>\n",
       "      <td>8.257804e+17</td>\n",
       "      <td>4.196984e+09</td>\n",
       "      <td>8.203146e+17</td>\n",
       "      <td>4.196984e+09</td>\n",
       "      <td>12.000000</td>\n",
       "      <td>10.000000</td>\n",
       "    </tr>\n",
       "    <tr>\n",
       "      <th>max</th>\n",
       "      <td>8.924206e+17</td>\n",
       "      <td>8.862664e+17</td>\n",
       "      <td>8.405479e+17</td>\n",
       "      <td>8.874740e+17</td>\n",
       "      <td>7.874618e+17</td>\n",
       "      <td>1776.000000</td>\n",
       "      <td>170.000000</td>\n",
       "    </tr>\n",
       "  </tbody>\n",
       "</table>\n",
       "</div>"
      ],
      "text/plain": [
       "           tweet_id  in_reply_to_status_id  in_reply_to_user_id  \\\n",
       "count  2.356000e+03           7.800000e+01         7.800000e+01   \n",
       "mean   7.427716e+17           7.455079e+17         2.014171e+16   \n",
       "std    6.856705e+16           7.582492e+16         1.252797e+17   \n",
       "min    6.660209e+17           6.658147e+17         1.185634e+07   \n",
       "25%    6.783989e+17           6.757419e+17         3.086374e+08   \n",
       "50%    7.196279e+17           7.038708e+17         4.196984e+09   \n",
       "75%    7.993373e+17           8.257804e+17         4.196984e+09   \n",
       "max    8.924206e+17           8.862664e+17         8.405479e+17   \n",
       "\n",
       "       retweeted_status_id  retweeted_status_user_id  rating_numerator  \\\n",
       "count         1.810000e+02              1.810000e+02       2356.000000   \n",
       "mean          7.720400e+17              1.241698e+16         13.126486   \n",
       "std           6.236928e+16              9.599254e+16         45.876648   \n",
       "min           6.661041e+17              7.832140e+05          0.000000   \n",
       "25%           7.186315e+17              4.196984e+09         10.000000   \n",
       "50%           7.804657e+17              4.196984e+09         11.000000   \n",
       "75%           8.203146e+17              4.196984e+09         12.000000   \n",
       "max           8.874740e+17              7.874618e+17       1776.000000   \n",
       "\n",
       "       rating_denominator  \n",
       "count         2356.000000  \n",
       "mean            10.455433  \n",
       "std              6.745237  \n",
       "min              0.000000  \n",
       "25%             10.000000  \n",
       "50%             10.000000  \n",
       "75%             10.000000  \n",
       "max            170.000000  "
      ]
     },
     "execution_count": 9,
     "metadata": {},
     "output_type": "execute_result"
    }
   ],
   "source": [
    "print(\" Number of duplicated tweets are :    \"+str(sum(df_twitter.tweet_id.duplicated())))\n",
    "print(\" Number of tweets with same time stamp :    \"+str(df_twitter.timestamp.duplicated().sum()))\n",
    "print(\" Number of tweets that doesn't contains text :   \"+str(df_twitter.text.isnull().sum()))\n",
    "print(\" Number of tweets that thier URLs are expanded :    \"+str(df_twitter.expanded_urls.isnull().sum()))\n",
    "print(\" Number of tweets \"+str(df_twitter.shape[0]))\n",
    "print(\" There are \"+str(df_twitter.name.value_counts()[0])+\" dogs without names\" )\n",
    "df_twitter.describe()"
   ]
  },
  {
   "cell_type": "code",
   "execution_count": 10,
   "metadata": {},
   "outputs": [
    {
     "name": "stdout",
     "output_type": "stream",
     "text": [
      "<class 'pandas.core.frame.DataFrame'>\n",
      "RangeIndex: 2075 entries, 0 to 2074\n",
      "Data columns (total 12 columns):\n",
      " #   Column    Non-Null Count  Dtype  \n",
      "---  ------    --------------  -----  \n",
      " 0   tweet_id  2075 non-null   int64  \n",
      " 1   jpg_url   2075 non-null   object \n",
      " 2   img_num   2075 non-null   int64  \n",
      " 3   p1        2075 non-null   object \n",
      " 4   p1_conf   2075 non-null   float64\n",
      " 5   p1_dog    2075 non-null   bool   \n",
      " 6   p2        2075 non-null   object \n",
      " 7   p2_conf   2075 non-null   float64\n",
      " 8   p2_dog    2075 non-null   bool   \n",
      " 9   p3        2075 non-null   object \n",
      " 10  p3_conf   2075 non-null   float64\n",
      " 11  p3_dog    2075 non-null   bool   \n",
      "dtypes: bool(3), float64(3), int64(2), object(4)\n",
      "memory usage: 152.1+ KB\n"
     ]
    }
   ],
   "source": [
    "df_image.info()"
   ]
  },
  {
   "cell_type": "code",
   "execution_count": 11,
   "metadata": {},
   "outputs": [
    {
     "name": "stdout",
     "output_type": "stream",
     "text": [
      " Number of duplicated Dog pictures:          66\n",
      " The accurcy of the first predection :      0.74\n",
      " The accurcy of the second predection:      0.75\n",
      " The accurcy of the third predection :      0.72\n"
     ]
    },
    {
     "data": {
      "text/html": [
       "<div>\n",
       "<style scoped>\n",
       "    .dataframe tbody tr th:only-of-type {\n",
       "        vertical-align: middle;\n",
       "    }\n",
       "\n",
       "    .dataframe tbody tr th {\n",
       "        vertical-align: top;\n",
       "    }\n",
       "\n",
       "    .dataframe thead th {\n",
       "        text-align: right;\n",
       "    }\n",
       "</style>\n",
       "<table border=\"1\" class=\"dataframe\">\n",
       "  <thead>\n",
       "    <tr style=\"text-align: right;\">\n",
       "      <th></th>\n",
       "      <th>tweet_id</th>\n",
       "      <th>img_num</th>\n",
       "      <th>p1_conf</th>\n",
       "      <th>p2_conf</th>\n",
       "      <th>p3_conf</th>\n",
       "    </tr>\n",
       "  </thead>\n",
       "  <tbody>\n",
       "    <tr>\n",
       "      <th>count</th>\n",
       "      <td>2.075000e+03</td>\n",
       "      <td>2075.000000</td>\n",
       "      <td>2075.000000</td>\n",
       "      <td>2.075000e+03</td>\n",
       "      <td>2.075000e+03</td>\n",
       "    </tr>\n",
       "    <tr>\n",
       "      <th>mean</th>\n",
       "      <td>7.384514e+17</td>\n",
       "      <td>1.203855</td>\n",
       "      <td>0.594548</td>\n",
       "      <td>1.345886e-01</td>\n",
       "      <td>6.032417e-02</td>\n",
       "    </tr>\n",
       "    <tr>\n",
       "      <th>std</th>\n",
       "      <td>6.785203e+16</td>\n",
       "      <td>0.561875</td>\n",
       "      <td>0.271174</td>\n",
       "      <td>1.006657e-01</td>\n",
       "      <td>5.090593e-02</td>\n",
       "    </tr>\n",
       "    <tr>\n",
       "      <th>min</th>\n",
       "      <td>6.660209e+17</td>\n",
       "      <td>1.000000</td>\n",
       "      <td>0.044333</td>\n",
       "      <td>1.011300e-08</td>\n",
       "      <td>1.740170e-10</td>\n",
       "    </tr>\n",
       "    <tr>\n",
       "      <th>25%</th>\n",
       "      <td>6.764835e+17</td>\n",
       "      <td>1.000000</td>\n",
       "      <td>0.364412</td>\n",
       "      <td>5.388625e-02</td>\n",
       "      <td>1.622240e-02</td>\n",
       "    </tr>\n",
       "    <tr>\n",
       "      <th>50%</th>\n",
       "      <td>7.119988e+17</td>\n",
       "      <td>1.000000</td>\n",
       "      <td>0.588230</td>\n",
       "      <td>1.181810e-01</td>\n",
       "      <td>4.944380e-02</td>\n",
       "    </tr>\n",
       "    <tr>\n",
       "      <th>75%</th>\n",
       "      <td>7.932034e+17</td>\n",
       "      <td>1.000000</td>\n",
       "      <td>0.843855</td>\n",
       "      <td>1.955655e-01</td>\n",
       "      <td>9.180755e-02</td>\n",
       "    </tr>\n",
       "    <tr>\n",
       "      <th>max</th>\n",
       "      <td>8.924206e+17</td>\n",
       "      <td>4.000000</td>\n",
       "      <td>1.000000</td>\n",
       "      <td>4.880140e-01</td>\n",
       "      <td>2.734190e-01</td>\n",
       "    </tr>\n",
       "  </tbody>\n",
       "</table>\n",
       "</div>"
      ],
      "text/plain": [
       "           tweet_id      img_num      p1_conf       p2_conf       p3_conf\n",
       "count  2.075000e+03  2075.000000  2075.000000  2.075000e+03  2.075000e+03\n",
       "mean   7.384514e+17     1.203855     0.594548  1.345886e-01  6.032417e-02\n",
       "std    6.785203e+16     0.561875     0.271174  1.006657e-01  5.090593e-02\n",
       "min    6.660209e+17     1.000000     0.044333  1.011300e-08  1.740170e-10\n",
       "25%    6.764835e+17     1.000000     0.364412  5.388625e-02  1.622240e-02\n",
       "50%    7.119988e+17     1.000000     0.588230  1.181810e-01  4.944380e-02\n",
       "75%    7.932034e+17     1.000000     0.843855  1.955655e-01  9.180755e-02\n",
       "max    8.924206e+17     4.000000     1.000000  4.880140e-01  2.734190e-01"
      ]
     },
     "execution_count": 11,
     "metadata": {},
     "output_type": "execute_result"
    }
   ],
   "source": [
    "print(\" Number of duplicated Dog pictures:          \" + str(df_image.jpg_url.duplicated().sum()))\n",
    "print(\" The accurcy of the first predection :  {:8.2f}\" .format(df_image.p1_dog.mean()))\n",
    "print(\" The accurcy of the second predection:  {:8.2f}\" .format(df_image.p2_dog.mean()))\n",
    "print(\" The accurcy of the third predection :  {:8.2f}\" .format(df_image.p3_dog.mean()))\n",
    "df_image.describe()"
   ]
  },
  {
   "cell_type": "code",
   "execution_count": 12,
   "metadata": {},
   "outputs": [
    {
     "name": "stdout",
     "output_type": "stream",
     "text": [
      "<class 'pandas.core.frame.DataFrame'>\n",
      "RangeIndex: 2327 entries, 0 to 2326\n",
      "Data columns (total 3 columns):\n",
      " #   Column    Non-Null Count  Dtype\n",
      "---  ------    --------------  -----\n",
      " 0   tweet_id  2327 non-null   int64\n",
      " 1   favorite  2327 non-null   int64\n",
      " 2   retweet   2327 non-null   int64\n",
      "dtypes: int64(3)\n",
      "memory usage: 54.7 KB\n"
     ]
    }
   ],
   "source": [
    "df_tweets.info()"
   ]
  },
  {
   "cell_type": "code",
   "execution_count": 13,
   "metadata": {},
   "outputs": [
    {
     "name": "stdout",
     "output_type": "stream",
     "text": [
      " There are 0 duplicated recoreds\n"
     ]
    },
    {
     "data": {
      "text/html": [
       "<div>\n",
       "<style scoped>\n",
       "    .dataframe tbody tr th:only-of-type {\n",
       "        vertical-align: middle;\n",
       "    }\n",
       "\n",
       "    .dataframe tbody tr th {\n",
       "        vertical-align: top;\n",
       "    }\n",
       "\n",
       "    .dataframe thead th {\n",
       "        text-align: right;\n",
       "    }\n",
       "</style>\n",
       "<table border=\"1\" class=\"dataframe\">\n",
       "  <thead>\n",
       "    <tr style=\"text-align: right;\">\n",
       "      <th></th>\n",
       "      <th>tweet_id</th>\n",
       "      <th>favorite</th>\n",
       "      <th>retweet</th>\n",
       "    </tr>\n",
       "  </thead>\n",
       "  <tbody>\n",
       "    <tr>\n",
       "      <th>count</th>\n",
       "      <td>2.327000e+03</td>\n",
       "      <td>2327.000000</td>\n",
       "      <td>2327.000000</td>\n",
       "    </tr>\n",
       "    <tr>\n",
       "      <th>mean</th>\n",
       "      <td>7.417930e+17</td>\n",
       "      <td>7103.030941</td>\n",
       "      <td>2488.024065</td>\n",
       "    </tr>\n",
       "    <tr>\n",
       "      <th>std</th>\n",
       "      <td>6.820795e+16</td>\n",
       "      <td>11038.615985</td>\n",
       "      <td>4213.380742</td>\n",
       "    </tr>\n",
       "    <tr>\n",
       "      <th>min</th>\n",
       "      <td>6.660209e+17</td>\n",
       "      <td>0.000000</td>\n",
       "      <td>1.000000</td>\n",
       "    </tr>\n",
       "    <tr>\n",
       "      <th>25%</th>\n",
       "      <td>6.781394e+17</td>\n",
       "      <td>1230.000000</td>\n",
       "      <td>499.000000</td>\n",
       "    </tr>\n",
       "    <tr>\n",
       "      <th>50%</th>\n",
       "      <td>7.178418e+17</td>\n",
       "      <td>3066.000000</td>\n",
       "      <td>1156.000000</td>\n",
       "    </tr>\n",
       "    <tr>\n",
       "      <th>75%</th>\n",
       "      <td>7.986547e+17</td>\n",
       "      <td>8666.500000</td>\n",
       "      <td>2881.500000</td>\n",
       "    </tr>\n",
       "    <tr>\n",
       "      <th>max</th>\n",
       "      <td>8.924206e+17</td>\n",
       "      <td>145663.000000</td>\n",
       "      <td>71228.000000</td>\n",
       "    </tr>\n",
       "  </tbody>\n",
       "</table>\n",
       "</div>"
      ],
      "text/plain": [
       "           tweet_id       favorite       retweet\n",
       "count  2.327000e+03    2327.000000   2327.000000\n",
       "mean   7.417930e+17    7103.030941   2488.024065\n",
       "std    6.820795e+16   11038.615985   4213.380742\n",
       "min    6.660209e+17       0.000000      1.000000\n",
       "25%    6.781394e+17    1230.000000    499.000000\n",
       "50%    7.178418e+17    3066.000000   1156.000000\n",
       "75%    7.986547e+17    8666.500000   2881.500000\n",
       "max    8.924206e+17  145663.000000  71228.000000"
      ]
     },
     "execution_count": 13,
     "metadata": {},
     "output_type": "execute_result"
    }
   ],
   "source": [
    "print(\" There are \" + str( df_tweets.tweet_id.duplicated().sum()) + \" duplicated recoreds\")\n",
    "\n",
    "df_tweets.describe()"
   ]
  },
  {
   "cell_type": "markdown",
   "metadata": {},
   "source": [
    "### Quality issues\n",
    "1.  There are 59 missing extended_URLs.\n",
    "2.\tNames must be correct some are None and others are not true names such as 'a' and 'an'.\n",
    "3.\tThe source column in the df_twitter contain useless information, so it needs to be clear.\n",
    "4.\tChange the column timestamp type to Date Time.\n",
    "5.\tThere are 66 duplicated jpg_URLs.\n",
    "6.\tColumns that is unnecessary for the analysis need to be dropped.\n",
    "7.\tData of the retweets will be dropped since they are not the original data.\n",
    "8.\tChange the data type of rating_numerator and rating_denominator to float instead of int.\n",
    "9.\tputting the rating in a single column.\n",
    "10.\tCombining the predictions of dog type.\n"
   ]
  },
  {
   "cell_type": "markdown",
   "metadata": {
    "extensions": {
     "jupyter_dashboards": {
      "version": 1,
      "views": {
       "grid_default": {
        "col": 0,
        "height": 7,
        "hidden": false,
        "row": 40,
        "width": 12
       },
       "report_default": {
        "hidden": false
       }
      }
     }
    }
   },
   "source": [
    "### Tidiness issues\n",
    "1. In the df_twitter there are four columns of dog stages, that can be represented in a single column.\n",
    "2. All three datasets need to be merged."
   ]
  },
  {
   "cell_type": "markdown",
   "metadata": {
    "extensions": {
     "jupyter_dashboards": {
      "version": 1,
      "views": {
       "grid_default": {
        "col": 4,
        "height": 4,
        "hidden": false,
        "row": 32,
        "width": 4
       },
       "report_default": {
        "hidden": false
       }
      }
     }
    }
   },
   "source": [
    "## Cleaning Data\n",
    "In this section, clean **all** of the issues you documented while assessing. \n",
    "\n",
    "**Note:** Make a copy of the original data before cleaning. Cleaning includes merging individual pieces of data according to the rules of [tidy data](https://cran.r-project.org/web/packages/tidyr/vignettes/tidy-data.html). The result should be a high-quality and tidy master pandas DataFrame (or DataFrames, if appropriate)."
   ]
  },
  {
   "cell_type": "code",
   "execution_count": 14,
   "metadata": {},
   "outputs": [],
   "source": [
    "# Make copies of original pieces of data\n",
    "df_twitter_clean = df_twitter.copy()\n",
    "df_image_clean = df_image.copy()\n",
    "df_tweets_clean = df_tweets.copy()"
   ]
  },
  {
   "cell_type": "markdown",
   "metadata": {},
   "source": [
    "## Quality"
   ]
  },
  {
   "cell_type": "markdown",
   "metadata": {},
   "source": [
    "### Issue #1:"
   ]
  },
  {
   "cell_type": "markdown",
   "metadata": {},
   "source": [
    "#### Define: There are 59 missing extended_URLs"
   ]
  },
  {
   "cell_type": "markdown",
   "metadata": {},
   "source": [
    "#### Code"
   ]
  },
  {
   "cell_type": "code",
   "execution_count": 15,
   "metadata": {},
   "outputs": [],
   "source": [
    "for index, column in df_twitter_clean.iterrows():\n",
    "    df_twitter_clean.loc[index, 'expanded_urls'] = 'https://twitter.com/dog_rates/status/' + str(index)"
   ]
  },
  {
   "cell_type": "markdown",
   "metadata": {},
   "source": [
    "#### Test"
   ]
  },
  {
   "cell_type": "code",
   "execution_count": 16,
   "metadata": {},
   "outputs": [
    {
     "data": {
      "text/plain": [
       "0"
      ]
     },
     "execution_count": 16,
     "metadata": {},
     "output_type": "execute_result"
    }
   ],
   "source": [
    "df_twitter_clean.expanded_urls.isnull().sum()"
   ]
  },
  {
   "cell_type": "markdown",
   "metadata": {},
   "source": [
    "### Issue #2:"
   ]
  },
  {
   "cell_type": "markdown",
   "metadata": {
    "collapsed": true,
    "extensions": {
     "jupyter_dashboards": {
      "version": 1,
      "views": {
       "grid_default": {
        "hidden": true
       },
       "report_default": {
        "hidden": true
       }
      }
     }
    }
   },
   "source": [
    "#### Define: Names must be correct some are None and others are not true names such as 'a' and 'an'."
   ]
  },
  {
   "cell_type": "markdown",
   "metadata": {},
   "source": [
    "#### Code"
   ]
  },
  {
   "cell_type": "code",
   "execution_count": 17,
   "metadata": {},
   "outputs": [
    {
     "data": {
      "text/plain": [
       "None          745\n",
       "a              55\n",
       "Charlie        12\n",
       "Cooper         11\n",
       "Lucy           11\n",
       "             ... \n",
       "Dex             1\n",
       "Ace             1\n",
       "Tayzie          1\n",
       "Grizzie         1\n",
       "Christoper      1\n",
       "Name: name, Length: 957, dtype: int64"
      ]
     },
     "execution_count": 17,
     "metadata": {},
     "output_type": "execute_result"
    }
   ],
   "source": [
    "NotNames = []\n",
    "for x, value in df_twitter_clean.name.items():\n",
    "    if len(value) < 2:\n",
    "        NotNames.append(value)    \n",
    "NotNames = set(NotNames)\n",
    "df_twitter_clean.name.value_counts()"
   ]
  },
  {
   "cell_type": "code",
   "execution_count": 18,
   "metadata": {},
   "outputs": [],
   "source": [
    "df_twitter_clean.name.replace(NotNames,'None',inplace=True)"
   ]
  },
  {
   "cell_type": "code",
   "execution_count": 19,
   "metadata": {},
   "outputs": [
    {
     "data": {
      "text/plain": [
       "Charlie       12\n",
       "Cooper        11\n",
       "Oliver        11\n",
       "Lucy          11\n",
       "Penny         10\n",
       "              ..\n",
       "Dex            1\n",
       "Ace            1\n",
       "Tayzie         1\n",
       "Grizzie        1\n",
       "Christoper     1\n",
       "Name: name, Length: 954, dtype: int64"
      ]
     },
     "execution_count": 19,
     "metadata": {},
     "output_type": "execute_result"
    }
   ],
   "source": [
    "df_twitter_clean.name.replace('None',np.nan,inplace=True)\n",
    "df_twitter_clean.name.value_counts()"
   ]
  },
  {
   "cell_type": "markdown",
   "metadata": {},
   "source": [
    "#### Test"
   ]
  },
  {
   "cell_type": "code",
   "execution_count": 20,
   "metadata": {},
   "outputs": [
    {
     "name": "stdout",
     "output_type": "stream",
     "text": [
      " The number of null values after connverting cleaning the names: 801\n"
     ]
    },
    {
     "data": {
      "text/plain": [
       "Charlie       12\n",
       "Cooper        11\n",
       "Oliver        11\n",
       "Lucy          11\n",
       "Penny         10\n",
       "              ..\n",
       "Dex            1\n",
       "Ace            1\n",
       "Tayzie         1\n",
       "Grizzie        1\n",
       "Christoper     1\n",
       "Name: name, Length: 954, dtype: int64"
      ]
     },
     "execution_count": 20,
     "metadata": {},
     "output_type": "execute_result"
    }
   ],
   "source": [
    "print(\" The number of null values after connverting cleaning the names: \"+str(df_twitter_clean.name.isnull().sum()))\n",
    "df_twitter_clean.name.value_counts()"
   ]
  },
  {
   "cell_type": "markdown",
   "metadata": {},
   "source": [
    "### Issue #3:\n",
    "\n",
    "#### Define:    The source column in the df_twitter contain useless information so it needs to be clear.\n",
    "\n",
    "#### Code"
   ]
  },
  {
   "cell_type": "code",
   "execution_count": 21,
   "metadata": {},
   "outputs": [],
   "source": [
    "df_twitter_clean['source'] = df_twitter_clean['source'].apply(lambda x: re.findall(r'>(.*)<', x)[0])"
   ]
  },
  {
   "cell_type": "markdown",
   "metadata": {},
   "source": [
    "#### Test"
   ]
  },
  {
   "cell_type": "code",
   "execution_count": 22,
   "metadata": {},
   "outputs": [
    {
     "data": {
      "text/plain": [
       "Twitter for iPhone     2221\n",
       "Vine - Make a Scene      91\n",
       "Twitter Web Client       33\n",
       "TweetDeck                11\n",
       "Name: source, dtype: int64"
      ]
     },
     "execution_count": 22,
     "metadata": {},
     "output_type": "execute_result"
    }
   ],
   "source": [
    "df_twitter_clean.source.value_counts()"
   ]
  },
  {
   "cell_type": "markdown",
   "metadata": {},
   "source": [
    "### Issue #4:\n",
    "\n",
    "#### Define:   Change the column timestamp type to DateTime.\n",
    "#### Code"
   ]
  },
  {
   "cell_type": "code",
   "execution_count": 23,
   "metadata": {},
   "outputs": [],
   "source": [
    "df_twitter_clean['timestamp'] = pd.to_datetime(df_twitter_clean['timestamp'])"
   ]
  },
  {
   "cell_type": "markdown",
   "metadata": {},
   "source": [
    "#### Test"
   ]
  },
  {
   "cell_type": "code",
   "execution_count": 24,
   "metadata": {},
   "outputs": [
    {
     "name": "stdout",
     "output_type": "stream",
     "text": [
      "<class 'pandas.core.frame.DataFrame'>\n",
      "RangeIndex: 2356 entries, 0 to 2355\n",
      "Data columns (total 17 columns):\n",
      " #   Column                      Non-Null Count  Dtype              \n",
      "---  ------                      --------------  -----              \n",
      " 0   tweet_id                    2356 non-null   int64              \n",
      " 1   in_reply_to_status_id       78 non-null     float64            \n",
      " 2   in_reply_to_user_id         78 non-null     float64            \n",
      " 3   timestamp                   2356 non-null   datetime64[ns, UTC]\n",
      " 4   source                      2356 non-null   object             \n",
      " 5   text                        2356 non-null   object             \n",
      " 6   retweeted_status_id         181 non-null    float64            \n",
      " 7   retweeted_status_user_id    181 non-null    float64            \n",
      " 8   retweeted_status_timestamp  181 non-null    object             \n",
      " 9   expanded_urls               2356 non-null   object             \n",
      " 10  rating_numerator            2356 non-null   int64              \n",
      " 11  rating_denominator          2356 non-null   int64              \n",
      " 12  name                        1555 non-null   object             \n",
      " 13  doggo                       2356 non-null   object             \n",
      " 14  floofer                     2356 non-null   object             \n",
      " 15  pupper                      2356 non-null   object             \n",
      " 16  puppo                       2356 non-null   object             \n",
      "dtypes: datetime64[ns, UTC](1), float64(4), int64(3), object(9)\n",
      "memory usage: 313.0+ KB\n"
     ]
    }
   ],
   "source": [
    "df_twitter_clean.info()"
   ]
  },
  {
   "cell_type": "markdown",
   "metadata": {},
   "source": [
    "### Issue #5:\n",
    "\n",
    "#### Define:   There are 66 duplicated jpg_URLs.\n",
    "#### Code"
   ]
  },
  {
   "cell_type": "code",
   "execution_count": 25,
   "metadata": {},
   "outputs": [
    {
     "name": "stdout",
     "output_type": "stream",
     "text": [
      "66\n"
     ]
    }
   ],
   "source": [
    "NOduplicated_jpg = df_image_clean.jpg_url.duplicated().sum()\n",
    "print(NOduplicated_jpg)\n",
    "df_image_clean.drop_duplicates(subset = ['jpg_url'],inplace=True)"
   ]
  },
  {
   "cell_type": "markdown",
   "metadata": {},
   "source": [
    "#### Test"
   ]
  },
  {
   "cell_type": "code",
   "execution_count": 26,
   "metadata": {},
   "outputs": [
    {
     "data": {
      "text/plain": [
       "0"
      ]
     },
     "execution_count": 26,
     "metadata": {},
     "output_type": "execute_result"
    }
   ],
   "source": [
    "df_image_clean.jpg_url.duplicated().sum()"
   ]
  },
  {
   "cell_type": "markdown",
   "metadata": {},
   "source": [
    "### Issue #6:\n",
    "\n",
    "#### Define:  Columns that is unnecessary for the analysis need to be dropped.\n",
    "#### Code"
   ]
  },
  {
   "cell_type": "code",
   "execution_count": 27,
   "metadata": {},
   "outputs": [
    {
     "name": "stdout",
     "output_type": "stream",
     "text": [
      "<class 'pandas.core.frame.DataFrame'>\n",
      "RangeIndex: 2356 entries, 0 to 2355\n",
      "Data columns (total 17 columns):\n",
      " #   Column                      Non-Null Count  Dtype              \n",
      "---  ------                      --------------  -----              \n",
      " 0   tweet_id                    2356 non-null   int64              \n",
      " 1   in_reply_to_status_id       78 non-null     float64            \n",
      " 2   in_reply_to_user_id         78 non-null     float64            \n",
      " 3   timestamp                   2356 non-null   datetime64[ns, UTC]\n",
      " 4   source                      2356 non-null   object             \n",
      " 5   text                        2356 non-null   object             \n",
      " 6   retweeted_status_id         181 non-null    float64            \n",
      " 7   retweeted_status_user_id    181 non-null    float64            \n",
      " 8   retweeted_status_timestamp  181 non-null    object             \n",
      " 9   expanded_urls               2356 non-null   object             \n",
      " 10  rating_numerator            2356 non-null   int64              \n",
      " 11  rating_denominator          2356 non-null   int64              \n",
      " 12  name                        1555 non-null   object             \n",
      " 13  doggo                       2356 non-null   object             \n",
      " 14  floofer                     2356 non-null   object             \n",
      " 15  pupper                      2356 non-null   object             \n",
      " 16  puppo                       2356 non-null   object             \n",
      "dtypes: datetime64[ns, UTC](1), float64(4), int64(3), object(9)\n",
      "memory usage: 313.0+ KB\n"
     ]
    }
   ],
   "source": [
    "df_twitter_clean.info()"
   ]
  },
  {
   "cell_type": "code",
   "execution_count": 28,
   "metadata": {},
   "outputs": [
    {
     "name": "stdout",
     "output_type": "stream",
     "text": [
      " There are  181 retweets in the dataset\n"
     ]
    }
   ],
   "source": [
    "print(' There are  '+ str(df_twitter_clean.retweeted_status_timestamp.count()) +\" retweets in the dataset\")\n",
    "UnNecessaryColumns = ['in_reply_to_status_id','in_reply_to_user_id',\n",
    "'retweeted_status_id','retweeted_status_user_id','retweeted_status_timestamp']\n",
    "df_twitter_clean.drop(UnNecessaryColumns,axis=1,inplace=True)"
   ]
  },
  {
   "cell_type": "markdown",
   "metadata": {},
   "source": [
    "#### Test"
   ]
  },
  {
   "cell_type": "code",
   "execution_count": 29,
   "metadata": {},
   "outputs": [
    {
     "name": "stdout",
     "output_type": "stream",
     "text": [
      "<class 'pandas.core.frame.DataFrame'>\n",
      "RangeIndex: 2356 entries, 0 to 2355\n",
      "Data columns (total 12 columns):\n",
      " #   Column              Non-Null Count  Dtype              \n",
      "---  ------              --------------  -----              \n",
      " 0   tweet_id            2356 non-null   int64              \n",
      " 1   timestamp           2356 non-null   datetime64[ns, UTC]\n",
      " 2   source              2356 non-null   object             \n",
      " 3   text                2356 non-null   object             \n",
      " 4   expanded_urls       2356 non-null   object             \n",
      " 5   rating_numerator    2356 non-null   int64              \n",
      " 6   rating_denominator  2356 non-null   int64              \n",
      " 7   name                1555 non-null   object             \n",
      " 8   doggo               2356 non-null   object             \n",
      " 9   floofer             2356 non-null   object             \n",
      " 10  pupper              2356 non-null   object             \n",
      " 11  puppo               2356 non-null   object             \n",
      "dtypes: datetime64[ns, UTC](1), int64(3), object(8)\n",
      "memory usage: 221.0+ KB\n"
     ]
    }
   ],
   "source": [
    "df_twitter_clean.info()"
   ]
  },
  {
   "cell_type": "markdown",
   "metadata": {},
   "source": [
    "### Issue #7:\n",
    "\n",
    "#### Define:  Data of the retweets will be droped since they are not the original data. \n",
    "#### Code"
   ]
  },
  {
   "cell_type": "code",
   "execution_count": 30,
   "metadata": {},
   "outputs": [],
   "source": [
    "# replacing all retweets with null in text so it can be easy to drop them. \n",
    "df_twitter_clean.mask(df_twitter_clean.text.str.contains(pat='^RT @'),other=np.nan,inplace=True)"
   ]
  },
  {
   "cell_type": "code",
   "execution_count": 31,
   "metadata": {},
   "outputs": [
    {
     "data": {
      "text/plain": [
       "181"
      ]
     },
     "execution_count": 31,
     "metadata": {},
     "output_type": "execute_result"
    }
   ],
   "source": [
    "df_twitter_clean.text.isnull().sum()"
   ]
  },
  {
   "cell_type": "code",
   "execution_count": 32,
   "metadata": {},
   "outputs": [],
   "source": [
    "df_twitter_clean.dropna(inplace=True,thresh=2)"
   ]
  },
  {
   "cell_type": "markdown",
   "metadata": {},
   "source": [
    "#### Test"
   ]
  },
  {
   "cell_type": "code",
   "execution_count": 33,
   "metadata": {},
   "outputs": [
    {
     "name": "stdout",
     "output_type": "stream",
     "text": [
      "<class 'pandas.core.frame.DataFrame'>\n",
      "Int64Index: 2175 entries, 0 to 2355\n",
      "Data columns (total 12 columns):\n",
      " #   Column              Non-Null Count  Dtype              \n",
      "---  ------              --------------  -----              \n",
      " 0   tweet_id            2175 non-null   float64            \n",
      " 1   timestamp           2175 non-null   datetime64[ns, UTC]\n",
      " 2   source              2175 non-null   object             \n",
      " 3   text                2175 non-null   object             \n",
      " 4   expanded_urls       2175 non-null   object             \n",
      " 5   rating_numerator    2175 non-null   float64            \n",
      " 6   rating_denominator  2175 non-null   float64            \n",
      " 7   name                1439 non-null   object             \n",
      " 8   doggo               2175 non-null   object             \n",
      " 9   floofer             2175 non-null   object             \n",
      " 10  pupper              2175 non-null   object             \n",
      " 11  puppo               2175 non-null   object             \n",
      "dtypes: datetime64[ns, UTC](1), float64(3), object(8)\n",
      "memory usage: 220.9+ KB\n"
     ]
    }
   ],
   "source": [
    "df_twitter_clean.info()"
   ]
  },
  {
   "cell_type": "code",
   "execution_count": 34,
   "metadata": {},
   "outputs": [
    {
     "data": {
      "text/plain": [
       "0"
      ]
     },
     "execution_count": 34,
     "metadata": {},
     "output_type": "execute_result"
    }
   ],
   "source": [
    "df_twitter_clean.text.isnull().sum()"
   ]
  },
  {
   "cell_type": "markdown",
   "metadata": {},
   "source": [
    "### Issue #8:\n",
    "\n",
    "#### Define: Chage the data type of rating_numerator and rating_denominator to float instead of int.   \n",
    "\n",
    "#### Code"
   ]
  },
  {
   "cell_type": "code",
   "execution_count": 35,
   "metadata": {},
   "outputs": [
    {
     "data": {
      "text/plain": [
       "0       13\n",
       "1       13\n",
       "2       12\n",
       "3       13\n",
       "4       12\n",
       "        ..\n",
       "2351     5\n",
       "2352     6\n",
       "2353     9\n",
       "2354     7\n",
       "2355     8\n",
       "Name: rating_numerator, Length: 2175, dtype: int64"
      ]
     },
     "execution_count": 35,
     "metadata": {},
     "output_type": "execute_result"
    }
   ],
   "source": [
    "df_twitter_clean.rating_denominator.astype('int64')\n",
    "df_twitter_clean.rating_numerator.astype('int64')"
   ]
  },
  {
   "cell_type": "markdown",
   "metadata": {},
   "source": [
    "#### Test"
   ]
  },
  {
   "cell_type": "code",
   "execution_count": 36,
   "metadata": {},
   "outputs": [
    {
     "name": "stdout",
     "output_type": "stream",
     "text": [
      "<class 'pandas.core.frame.DataFrame'>\n",
      "Int64Index: 2175 entries, 0 to 2355\n",
      "Data columns (total 12 columns):\n",
      " #   Column              Non-Null Count  Dtype              \n",
      "---  ------              --------------  -----              \n",
      " 0   tweet_id            2175 non-null   float64            \n",
      " 1   timestamp           2175 non-null   datetime64[ns, UTC]\n",
      " 2   source              2175 non-null   object             \n",
      " 3   text                2175 non-null   object             \n",
      " 4   expanded_urls       2175 non-null   object             \n",
      " 5   rating_numerator    2175 non-null   float64            \n",
      " 6   rating_denominator  2175 non-null   float64            \n",
      " 7   name                1439 non-null   object             \n",
      " 8   doggo               2175 non-null   object             \n",
      " 9   floofer             2175 non-null   object             \n",
      " 10  pupper              2175 non-null   object             \n",
      " 11  puppo               2175 non-null   object             \n",
      "dtypes: datetime64[ns, UTC](1), float64(3), object(8)\n",
      "memory usage: 220.9+ KB\n"
     ]
    }
   ],
   "source": [
    "df_twitter_clean.info()"
   ]
  },
  {
   "cell_type": "markdown",
   "metadata": {},
   "source": [
    "### Issue #9:\n",
    "\n",
    "#### Define:    putting the rating in a single column.\n",
    "\n",
    "#### Code"
   ]
  },
  {
   "cell_type": "code",
   "execution_count": 37,
   "metadata": {},
   "outputs": [],
   "source": [
    "df_twitter_clean['rating'] = (df_twitter_clean['rating_numerator'] / df_twitter_clean['rating_denominator'])*10"
   ]
  },
  {
   "cell_type": "markdown",
   "metadata": {},
   "source": [
    "#### Test"
   ]
  },
  {
   "cell_type": "code",
   "execution_count": 38,
   "metadata": {},
   "outputs": [
    {
     "data": {
      "text/html": [
       "<div>\n",
       "<style scoped>\n",
       "    .dataframe tbody tr th:only-of-type {\n",
       "        vertical-align: middle;\n",
       "    }\n",
       "\n",
       "    .dataframe tbody tr th {\n",
       "        vertical-align: top;\n",
       "    }\n",
       "\n",
       "    .dataframe thead th {\n",
       "        text-align: right;\n",
       "    }\n",
       "</style>\n",
       "<table border=\"1\" class=\"dataframe\">\n",
       "  <thead>\n",
       "    <tr style=\"text-align: right;\">\n",
       "      <th></th>\n",
       "      <th>tweet_id</th>\n",
       "      <th>timestamp</th>\n",
       "      <th>source</th>\n",
       "      <th>text</th>\n",
       "      <th>expanded_urls</th>\n",
       "      <th>rating_numerator</th>\n",
       "      <th>rating_denominator</th>\n",
       "      <th>name</th>\n",
       "      <th>doggo</th>\n",
       "      <th>floofer</th>\n",
       "      <th>pupper</th>\n",
       "      <th>puppo</th>\n",
       "      <th>rating</th>\n",
       "    </tr>\n",
       "  </thead>\n",
       "  <tbody>\n",
       "    <tr>\n",
       "      <th>611</th>\n",
       "      <td>7.971660e+17</td>\n",
       "      <td>2016-11-11 19:55:50+00:00</td>\n",
       "      <td>Twitter for iPhone</td>\n",
       "      <td>@JODYHiGHROLLER it may be an 11/10 but what do...</td>\n",
       "      <td>https://twitter.com/dog_rates/status/611</td>\n",
       "      <td>11.0</td>\n",
       "      <td>10.0</td>\n",
       "      <td>NaN</td>\n",
       "      <td>None</td>\n",
       "      <td>None</td>\n",
       "      <td>None</td>\n",
       "      <td>None</td>\n",
       "      <td>11.0</td>\n",
       "    </tr>\n",
       "    <tr>\n",
       "      <th>1717</th>\n",
       "      <td>6.801913e+17</td>\n",
       "      <td>2015-12-25 01:00:07+00:00</td>\n",
       "      <td>Twitter for iPhone</td>\n",
       "      <td>Here's a sleepy Christmas pupper 11/10 https:/...</td>\n",
       "      <td>https://twitter.com/dog_rates/status/1717</td>\n",
       "      <td>11.0</td>\n",
       "      <td>10.0</td>\n",
       "      <td>NaN</td>\n",
       "      <td>None</td>\n",
       "      <td>None</td>\n",
       "      <td>pupper</td>\n",
       "      <td>None</td>\n",
       "      <td>11.0</td>\n",
       "    </tr>\n",
       "    <tr>\n",
       "      <th>630</th>\n",
       "      <td>7.943323e+17</td>\n",
       "      <td>2016-11-04 00:15:59+00:00</td>\n",
       "      <td>Twitter for iPhone</td>\n",
       "      <td>This is Nimbus (like the cloud). He just bough...</td>\n",
       "      <td>https://twitter.com/dog_rates/status/630</td>\n",
       "      <td>12.0</td>\n",
       "      <td>10.0</td>\n",
       "      <td>Nimbus</td>\n",
       "      <td>None</td>\n",
       "      <td>None</td>\n",
       "      <td>None</td>\n",
       "      <td>None</td>\n",
       "      <td>12.0</td>\n",
       "    </tr>\n",
       "    <tr>\n",
       "      <th>2312</th>\n",
       "      <td>6.667769e+17</td>\n",
       "      <td>2015-11-18 00:36:17+00:00</td>\n",
       "      <td>Twitter for iPhone</td>\n",
       "      <td>This is Josep. He is a Rye Manganese mix. Can ...</td>\n",
       "      <td>https://twitter.com/dog_rates/status/2312</td>\n",
       "      <td>5.0</td>\n",
       "      <td>10.0</td>\n",
       "      <td>Josep</td>\n",
       "      <td>None</td>\n",
       "      <td>None</td>\n",
       "      <td>None</td>\n",
       "      <td>None</td>\n",
       "      <td>5.0</td>\n",
       "    </tr>\n",
       "    <tr>\n",
       "      <th>662</th>\n",
       "      <td>7.909874e+17</td>\n",
       "      <td>2016-10-25 18:44:32+00:00</td>\n",
       "      <td>Twitter for iPhone</td>\n",
       "      <td>This is Misty. She has a cowboy hat on her nos...</td>\n",
       "      <td>https://twitter.com/dog_rates/status/662</td>\n",
       "      <td>12.0</td>\n",
       "      <td>10.0</td>\n",
       "      <td>Misty</td>\n",
       "      <td>None</td>\n",
       "      <td>None</td>\n",
       "      <td>None</td>\n",
       "      <td>None</td>\n",
       "      <td>12.0</td>\n",
       "    </tr>\n",
       "    <tr>\n",
       "      <th>1147</th>\n",
       "      <td>7.269351e+17</td>\n",
       "      <td>2016-05-02 00:43:25+00:00</td>\n",
       "      <td>Twitter for iPhone</td>\n",
       "      <td>This is Sprout. He's just precious af. 12/10 I...</td>\n",
       "      <td>https://twitter.com/dog_rates/status/1147</td>\n",
       "      <td>12.0</td>\n",
       "      <td>10.0</td>\n",
       "      <td>Sprout</td>\n",
       "      <td>None</td>\n",
       "      <td>None</td>\n",
       "      <td>None</td>\n",
       "      <td>None</td>\n",
       "      <td>12.0</td>\n",
       "    </tr>\n",
       "    <tr>\n",
       "      <th>125</th>\n",
       "      <td>8.686225e+17</td>\n",
       "      <td>2017-05-28 00:18:35+00:00</td>\n",
       "      <td>Twitter for iPhone</td>\n",
       "      <td>Here's a h*ckin peaceful boy. Unbothered by th...</td>\n",
       "      <td>https://twitter.com/dog_rates/status/125</td>\n",
       "      <td>13.0</td>\n",
       "      <td>10.0</td>\n",
       "      <td>NaN</td>\n",
       "      <td>None</td>\n",
       "      <td>None</td>\n",
       "      <td>None</td>\n",
       "      <td>None</td>\n",
       "      <td>13.0</td>\n",
       "    </tr>\n",
       "    <tr>\n",
       "      <th>624</th>\n",
       "      <td>7.954643e+17</td>\n",
       "      <td>2016-11-07 03:14:10+00:00</td>\n",
       "      <td>Twitter for iPhone</td>\n",
       "      <td>Elder doggo does a splash. Both 13/10 incredib...</td>\n",
       "      <td>https://twitter.com/dog_rates/status/624</td>\n",
       "      <td>13.0</td>\n",
       "      <td>10.0</td>\n",
       "      <td>NaN</td>\n",
       "      <td>doggo</td>\n",
       "      <td>None</td>\n",
       "      <td>None</td>\n",
       "      <td>None</td>\n",
       "      <td>13.0</td>\n",
       "    </tr>\n",
       "    <tr>\n",
       "      <th>1346</th>\n",
       "      <td>7.044803e+17</td>\n",
       "      <td>2016-03-01 01:36:14+00:00</td>\n",
       "      <td>Twitter for iPhone</td>\n",
       "      <td>Meet Lucia. She's a Cumulonimbus Floofmallow. ...</td>\n",
       "      <td>https://twitter.com/dog_rates/status/1346</td>\n",
       "      <td>11.0</td>\n",
       "      <td>10.0</td>\n",
       "      <td>Lucia</td>\n",
       "      <td>None</td>\n",
       "      <td>None</td>\n",
       "      <td>None</td>\n",
       "      <td>None</td>\n",
       "      <td>11.0</td>\n",
       "    </tr>\n",
       "    <tr>\n",
       "      <th>292</th>\n",
       "      <td>8.380839e+17</td>\n",
       "      <td>2017-03-04 17:49:08+00:00</td>\n",
       "      <td>Twitter for iPhone</td>\n",
       "      <td>This is Daisy. She's puppears to be rare as al...</td>\n",
       "      <td>https://twitter.com/dog_rates/status/292</td>\n",
       "      <td>13.0</td>\n",
       "      <td>10.0</td>\n",
       "      <td>Daisy</td>\n",
       "      <td>None</td>\n",
       "      <td>None</td>\n",
       "      <td>None</td>\n",
       "      <td>None</td>\n",
       "      <td>13.0</td>\n",
       "    </tr>\n",
       "  </tbody>\n",
       "</table>\n",
       "</div>"
      ],
      "text/plain": [
       "          tweet_id                 timestamp              source  \\\n",
       "611   7.971660e+17 2016-11-11 19:55:50+00:00  Twitter for iPhone   \n",
       "1717  6.801913e+17 2015-12-25 01:00:07+00:00  Twitter for iPhone   \n",
       "630   7.943323e+17 2016-11-04 00:15:59+00:00  Twitter for iPhone   \n",
       "2312  6.667769e+17 2015-11-18 00:36:17+00:00  Twitter for iPhone   \n",
       "662   7.909874e+17 2016-10-25 18:44:32+00:00  Twitter for iPhone   \n",
       "1147  7.269351e+17 2016-05-02 00:43:25+00:00  Twitter for iPhone   \n",
       "125   8.686225e+17 2017-05-28 00:18:35+00:00  Twitter for iPhone   \n",
       "624   7.954643e+17 2016-11-07 03:14:10+00:00  Twitter for iPhone   \n",
       "1346  7.044803e+17 2016-03-01 01:36:14+00:00  Twitter for iPhone   \n",
       "292   8.380839e+17 2017-03-04 17:49:08+00:00  Twitter for iPhone   \n",
       "\n",
       "                                                   text  \\\n",
       "611   @JODYHiGHROLLER it may be an 11/10 but what do...   \n",
       "1717  Here's a sleepy Christmas pupper 11/10 https:/...   \n",
       "630   This is Nimbus (like the cloud). He just bough...   \n",
       "2312  This is Josep. He is a Rye Manganese mix. Can ...   \n",
       "662   This is Misty. She has a cowboy hat on her nos...   \n",
       "1147  This is Sprout. He's just precious af. 12/10 I...   \n",
       "125   Here's a h*ckin peaceful boy. Unbothered by th...   \n",
       "624   Elder doggo does a splash. Both 13/10 incredib...   \n",
       "1346  Meet Lucia. She's a Cumulonimbus Floofmallow. ...   \n",
       "292   This is Daisy. She's puppears to be rare as al...   \n",
       "\n",
       "                                  expanded_urls  rating_numerator  \\\n",
       "611    https://twitter.com/dog_rates/status/611              11.0   \n",
       "1717  https://twitter.com/dog_rates/status/1717              11.0   \n",
       "630    https://twitter.com/dog_rates/status/630              12.0   \n",
       "2312  https://twitter.com/dog_rates/status/2312               5.0   \n",
       "662    https://twitter.com/dog_rates/status/662              12.0   \n",
       "1147  https://twitter.com/dog_rates/status/1147              12.0   \n",
       "125    https://twitter.com/dog_rates/status/125              13.0   \n",
       "624    https://twitter.com/dog_rates/status/624              13.0   \n",
       "1346  https://twitter.com/dog_rates/status/1346              11.0   \n",
       "292    https://twitter.com/dog_rates/status/292              13.0   \n",
       "\n",
       "      rating_denominator    name  doggo floofer  pupper puppo  rating  \n",
       "611                 10.0     NaN   None    None    None  None    11.0  \n",
       "1717                10.0     NaN   None    None  pupper  None    11.0  \n",
       "630                 10.0  Nimbus   None    None    None  None    12.0  \n",
       "2312                10.0   Josep   None    None    None  None     5.0  \n",
       "662                 10.0   Misty   None    None    None  None    12.0  \n",
       "1147                10.0  Sprout   None    None    None  None    12.0  \n",
       "125                 10.0     NaN   None    None    None  None    13.0  \n",
       "624                 10.0     NaN  doggo    None    None  None    13.0  \n",
       "1346                10.0   Lucia   None    None    None  None    11.0  \n",
       "292                 10.0   Daisy   None    None    None  None    13.0  "
      ]
     },
     "execution_count": 38,
     "metadata": {},
     "output_type": "execute_result"
    }
   ],
   "source": [
    "df_twitter_clean.sample(10)"
   ]
  },
  {
   "cell_type": "markdown",
   "metadata": {},
   "source": [
    "### Issue #10:\n",
    "\n",
    "#### Define:   \tCombining the predictions of dog type.\n",
    "\n",
    "#### Code"
   ]
  },
  {
   "cell_type": "code",
   "execution_count": 39,
   "metadata": {},
   "outputs": [],
   "source": [
    "pred = []\n",
    "conf = []\n",
    "for index, x in df_image_clean.iterrows():\n",
    "    if x['p1_dog'] == True:\n",
    "        pred.append(x['p1'])\n",
    "        conf.append(x['p1_conf'])\n",
    "    elif x['p2_dog'] == True:\n",
    "        pred.append(x['p2'])\n",
    "        conf.append(x['p2_conf'])\n",
    "    elif x['p3_dog'] == True:\n",
    "        pred.append(x['p3'])\n",
    "        conf.append(x['p3_conf'])\n",
    "    else:\n",
    "        pred.append(np.nan)\n",
    "        conf.append(np.nan)\n",
    "df_image_clean['dog_Type'] = pred"
   ]
  },
  {
   "cell_type": "markdown",
   "metadata": {},
   "source": [
    "#### Test"
   ]
  },
  {
   "cell_type": "code",
   "execution_count": 40,
   "metadata": {},
   "outputs": [
    {
     "name": "stdout",
     "output_type": "stream",
     "text": [
      "<class 'pandas.core.frame.DataFrame'>\n",
      "Int64Index: 2009 entries, 0 to 2074\n",
      "Data columns (total 13 columns):\n",
      " #   Column    Non-Null Count  Dtype  \n",
      "---  ------    --------------  -----  \n",
      " 0   tweet_id  2009 non-null   int64  \n",
      " 1   jpg_url   2009 non-null   object \n",
      " 2   img_num   2009 non-null   int64  \n",
      " 3   p1        2009 non-null   object \n",
      " 4   p1_conf   2009 non-null   float64\n",
      " 5   p1_dog    2009 non-null   bool   \n",
      " 6   p2        2009 non-null   object \n",
      " 7   p2_conf   2009 non-null   float64\n",
      " 8   p2_dog    2009 non-null   bool   \n",
      " 9   p3        2009 non-null   object \n",
      " 10  p3_conf   2009 non-null   float64\n",
      " 11  p3_dog    2009 non-null   bool   \n",
      " 12  dog_Type  1691 non-null   object \n",
      "dtypes: bool(3), float64(3), int64(2), object(5)\n",
      "memory usage: 178.5+ KB\n"
     ]
    }
   ],
   "source": [
    "df_image_clean.info()"
   ]
  },
  {
   "cell_type": "markdown",
   "metadata": {},
   "source": [
    " since we do not need the combined columns I will drop them."
   ]
  },
  {
   "cell_type": "code",
   "execution_count": 41,
   "metadata": {},
   "outputs": [
    {
     "name": "stdout",
     "output_type": "stream",
     "text": [
      "<class 'pandas.core.frame.DataFrame'>\n",
      "Int64Index: 2009 entries, 0 to 2074\n",
      "Data columns (total 3 columns):\n",
      " #   Column    Non-Null Count  Dtype \n",
      "---  ------    --------------  ----- \n",
      " 0   tweet_id  2009 non-null   int64 \n",
      " 1   jpg_url   2009 non-null   object\n",
      " 2   dog_Type  1691 non-null   object\n",
      "dtypes: int64(1), object(2)\n",
      "memory usage: 62.8+ KB\n"
     ]
    }
   ],
   "source": [
    "df_image_clean.drop(columns=['img_num','p1','p1_conf','p1_dog','p2','p2_conf','p2_dog','p3','p3_conf','p3_dog'],inplace=True)\n",
    "df_image_clean.info()"
   ]
  },
  {
   "cell_type": "markdown",
   "metadata": {},
   "source": [
    "## Tidiness"
   ]
  },
  {
   "cell_type": "markdown",
   "metadata": {},
   "source": [
    "### Issue #11:\n",
    "\n",
    "#### Define:  In the df_twitter there are four columns of dog stages, that can be represented in a single column. \n",
    "#### Code"
   ]
  },
  {
   "cell_type": "code",
   "execution_count": 42,
   "metadata": {},
   "outputs": [],
   "source": [
    "Columns = ['tweet_id','timestamp','source','text','expanded_urls','rating','name']\n",
    "mergedColumns = ['doggo','floofer','pupper','puppo']                                                                \n",
    "df_twitter_clean = pd.melt(df_twitter_clean, id_vars=Columns, value_vars = mergedColumns ,value_name='dog_stage',ignore_index=False)\n",
    "df_twitter_clean.drop('variable',axis=1,inplace=True)\n",
    "df_twitter_clean = df_twitter_clean.sort_values('dog_stage').drop_duplicates(subset='tweet_id', keep='last')"
   ]
  },
  {
   "cell_type": "markdown",
   "metadata": {},
   "source": [
    "#### Test"
   ]
  },
  {
   "cell_type": "code",
   "execution_count": 43,
   "metadata": {},
   "outputs": [
    {
     "data": {
      "text/plain": [
       "None       1831\n",
       "pupper      234\n",
       "doggo        75\n",
       "puppo        25\n",
       "floofer      10\n",
       "Name: dog_stage, dtype: int64"
      ]
     },
     "execution_count": 43,
     "metadata": {},
     "output_type": "execute_result"
    }
   ],
   "source": [
    "df_twitter_clean.dog_stage.value_counts()"
   ]
  },
  {
   "cell_type": "code",
   "execution_count": 44,
   "metadata": {},
   "outputs": [
    {
     "data": {
      "text/html": [
       "<div>\n",
       "<style scoped>\n",
       "    .dataframe tbody tr th:only-of-type {\n",
       "        vertical-align: middle;\n",
       "    }\n",
       "\n",
       "    .dataframe tbody tr th {\n",
       "        vertical-align: top;\n",
       "    }\n",
       "\n",
       "    .dataframe thead th {\n",
       "        text-align: right;\n",
       "    }\n",
       "</style>\n",
       "<table border=\"1\" class=\"dataframe\">\n",
       "  <thead>\n",
       "    <tr style=\"text-align: right;\">\n",
       "      <th></th>\n",
       "      <th>tweet_id</th>\n",
       "      <th>timestamp</th>\n",
       "      <th>source</th>\n",
       "      <th>text</th>\n",
       "      <th>expanded_urls</th>\n",
       "      <th>rating</th>\n",
       "      <th>name</th>\n",
       "      <th>dog_stage</th>\n",
       "    </tr>\n",
       "  </thead>\n",
       "  <tbody>\n",
       "    <tr>\n",
       "      <th>2151</th>\n",
       "      <td>6.696821e+17</td>\n",
       "      <td>2015-11-26 01:00:28+00:00</td>\n",
       "      <td>Twitter for iPhone</td>\n",
       "      <td>Meet Louie. He just pounded that bottle of win...</td>\n",
       "      <td>https://twitter.com/dog_rates/status/2151</td>\n",
       "      <td>9.0</td>\n",
       "      <td>Louie</td>\n",
       "      <td>None</td>\n",
       "    </tr>\n",
       "    <tr>\n",
       "      <th>1936</th>\n",
       "      <td>6.739569e+17</td>\n",
       "      <td>2015-12-07 20:07:04+00:00</td>\n",
       "      <td>Twitter for iPhone</td>\n",
       "      <td>This is one esteemed pupper. Just graduated co...</td>\n",
       "      <td>https://twitter.com/dog_rates/status/1936</td>\n",
       "      <td>10.0</td>\n",
       "      <td>one</td>\n",
       "      <td>pupper</td>\n",
       "    </tr>\n",
       "    <tr>\n",
       "      <th>2036</th>\n",
       "      <td>6.717299e+17</td>\n",
       "      <td>2015-12-01 16:37:44+00:00</td>\n",
       "      <td>Twitter for iPhone</td>\n",
       "      <td>I'm just going to leave this one here as well....</td>\n",
       "      <td>https://twitter.com/dog_rates/status/2036</td>\n",
       "      <td>13.0</td>\n",
       "      <td>NaN</td>\n",
       "      <td>None</td>\n",
       "    </tr>\n",
       "    <tr>\n",
       "      <th>1719</th>\n",
       "      <td>6.801611e+17</td>\n",
       "      <td>2015-12-24 23:00:17+00:00</td>\n",
       "      <td>Twitter for iPhone</td>\n",
       "      <td>Meet Goliath. He's an example of irony. Head i...</td>\n",
       "      <td>https://twitter.com/dog_rates/status/1719</td>\n",
       "      <td>12.0</td>\n",
       "      <td>Goliath</td>\n",
       "      <td>None</td>\n",
       "    </tr>\n",
       "    <tr>\n",
       "      <th>1365</th>\n",
       "      <td>7.026849e+17</td>\n",
       "      <td>2016-02-25 02:42:00+00:00</td>\n",
       "      <td>Twitter for iPhone</td>\n",
       "      <td>This is Lucy. She's sick of these bullshit gen...</td>\n",
       "      <td>https://twitter.com/dog_rates/status/1365</td>\n",
       "      <td>11.0</td>\n",
       "      <td>Lucy</td>\n",
       "      <td>None</td>\n",
       "    </tr>\n",
       "  </tbody>\n",
       "</table>\n",
       "</div>"
      ],
      "text/plain": [
       "          tweet_id                 timestamp              source  \\\n",
       "2151  6.696821e+17 2015-11-26 01:00:28+00:00  Twitter for iPhone   \n",
       "1936  6.739569e+17 2015-12-07 20:07:04+00:00  Twitter for iPhone   \n",
       "2036  6.717299e+17 2015-12-01 16:37:44+00:00  Twitter for iPhone   \n",
       "1719  6.801611e+17 2015-12-24 23:00:17+00:00  Twitter for iPhone   \n",
       "1365  7.026849e+17 2016-02-25 02:42:00+00:00  Twitter for iPhone   \n",
       "\n",
       "                                                   text  \\\n",
       "2151  Meet Louie. He just pounded that bottle of win...   \n",
       "1936  This is one esteemed pupper. Just graduated co...   \n",
       "2036  I'm just going to leave this one here as well....   \n",
       "1719  Meet Goliath. He's an example of irony. Head i...   \n",
       "1365  This is Lucy. She's sick of these bullshit gen...   \n",
       "\n",
       "                                  expanded_urls  rating     name dog_stage  \n",
       "2151  https://twitter.com/dog_rates/status/2151     9.0    Louie      None  \n",
       "1936  https://twitter.com/dog_rates/status/1936    10.0      one    pupper  \n",
       "2036  https://twitter.com/dog_rates/status/2036    13.0      NaN      None  \n",
       "1719  https://twitter.com/dog_rates/status/1719    12.0  Goliath      None  \n",
       "1365  https://twitter.com/dog_rates/status/1365    11.0     Lucy      None  "
      ]
     },
     "execution_count": 44,
     "metadata": {},
     "output_type": "execute_result"
    }
   ],
   "source": [
    "df_twitter_clean.sample(5)"
   ]
  },
  {
   "cell_type": "code",
   "execution_count": 45,
   "metadata": {},
   "outputs": [
    {
     "name": "stdout",
     "output_type": "stream",
     "text": [
      "<class 'pandas.core.frame.DataFrame'>\n",
      "Int64Index: 2175 entries, 2276 to 947\n",
      "Data columns (total 8 columns):\n",
      " #   Column         Non-Null Count  Dtype              \n",
      "---  ------         --------------  -----              \n",
      " 0   tweet_id       2175 non-null   float64            \n",
      " 1   timestamp      2175 non-null   datetime64[ns, UTC]\n",
      " 2   source         2175 non-null   object             \n",
      " 3   text           2175 non-null   object             \n",
      " 4   expanded_urls  2175 non-null   object             \n",
      " 5   rating         2175 non-null   float64            \n",
      " 6   name           1439 non-null   object             \n",
      " 7   dog_stage      2175 non-null   object             \n",
      "dtypes: datetime64[ns, UTC](1), float64(2), object(5)\n",
      "memory usage: 152.9+ KB\n"
     ]
    }
   ],
   "source": [
    "df_twitter_clean.info()"
   ]
  },
  {
   "cell_type": "markdown",
   "metadata": {},
   "source": [
    "### Issue #12:\n",
    "\n",
    "#### Define: All three datasets need to be merged.\n",
    "#### Code"
   ]
  },
  {
   "cell_type": "code",
   "execution_count": 46,
   "metadata": {},
   "outputs": [
    {
     "data": {
      "text/plain": [
       "(1296, 12)"
      ]
     },
     "execution_count": 46,
     "metadata": {},
     "output_type": "execute_result"
    }
   ],
   "source": [
    "df = df_image_clean.merge(df_twitter_clean,how='inner',on='tweet_id')\n",
    "df = df.merge(df_tweets_clean,how='inner',on='tweet_id')\n",
    "df.shape"
   ]
  },
  {
   "cell_type": "markdown",
   "metadata": {},
   "source": [
    "#### Test"
   ]
  },
  {
   "cell_type": "code",
   "execution_count": 47,
   "metadata": {},
   "outputs": [
    {
     "data": {
      "text/html": [
       "<div>\n",
       "<style scoped>\n",
       "    .dataframe tbody tr th:only-of-type {\n",
       "        vertical-align: middle;\n",
       "    }\n",
       "\n",
       "    .dataframe tbody tr th {\n",
       "        vertical-align: top;\n",
       "    }\n",
       "\n",
       "    .dataframe thead th {\n",
       "        text-align: right;\n",
       "    }\n",
       "</style>\n",
       "<table border=\"1\" class=\"dataframe\">\n",
       "  <thead>\n",
       "    <tr style=\"text-align: right;\">\n",
       "      <th></th>\n",
       "      <th>tweet_id</th>\n",
       "      <th>jpg_url</th>\n",
       "      <th>dog_Type</th>\n",
       "      <th>timestamp</th>\n",
       "      <th>source</th>\n",
       "      <th>text</th>\n",
       "      <th>expanded_urls</th>\n",
       "      <th>rating</th>\n",
       "      <th>name</th>\n",
       "      <th>dog_stage</th>\n",
       "      <th>favorite</th>\n",
       "      <th>retweet</th>\n",
       "    </tr>\n",
       "  </thead>\n",
       "  <tbody>\n",
       "    <tr>\n",
       "      <th>460</th>\n",
       "      <td>684188786104872960</td>\n",
       "      <td>https://pbs.twimg.com/media/CX66EiJWkAAVjA-.jpg</td>\n",
       "      <td>kelpie</td>\n",
       "      <td>2016-01-05 01:44:52+00:00</td>\n",
       "      <td>Twitter for iPhone</td>\n",
       "      <td>\"Yo Boomer I'm taking a selfie, grab your stic...</td>\n",
       "      <td>https://twitter.com/dog_rates/status/1638</td>\n",
       "      <td>10.0</td>\n",
       "      <td>NaN</td>\n",
       "      <td>None</td>\n",
       "      <td>3253</td>\n",
       "      <td>1063</td>\n",
       "    </tr>\n",
       "    <tr>\n",
       "      <th>951</th>\n",
       "      <td>773704687002451968</td>\n",
       "      <td>https://pbs.twimg.com/media/CrzATQqWAAEHq2t.jpg</td>\n",
       "      <td>silky_terrier</td>\n",
       "      <td>2016-09-08 02:09:06+00:00</td>\n",
       "      <td>Twitter for iPhone</td>\n",
       "      <td>This is Loki. He knows he's adorable. One ear ...</td>\n",
       "      <td>https://twitter.com/dog_rates/status/791</td>\n",
       "      <td>12.0</td>\n",
       "      <td>Loki</td>\n",
       "      <td>None</td>\n",
       "      <td>6277</td>\n",
       "      <td>1507</td>\n",
       "    </tr>\n",
       "    <tr>\n",
       "      <th>356</th>\n",
       "      <td>675878199931371520</td>\n",
       "      <td>https://pbs.twimg.com/media/CWEzo19WoAEiOCj.jpg</td>\n",
       "      <td>Cardigan</td>\n",
       "      <td>2015-12-13 03:21:34+00:00</td>\n",
       "      <td>Twitter for iPhone</td>\n",
       "      <td>Ok, I'll admit this is a pretty adorable bunny...</td>\n",
       "      <td>https://twitter.com/dog_rates/status/1841</td>\n",
       "      <td>11.0</td>\n",
       "      <td>NaN</td>\n",
       "      <td>None</td>\n",
       "      <td>3802</td>\n",
       "      <td>1247</td>\n",
       "    </tr>\n",
       "    <tr>\n",
       "      <th>474</th>\n",
       "      <td>685169283572338688</td>\n",
       "      <td>https://pbs.twimg.com/media/CYI10WhWsAAjzii.jpg</td>\n",
       "      <td>Bernese_mountain_dog</td>\n",
       "      <td>2016-01-07 18:41:01+00:00</td>\n",
       "      <td>Twitter for iPhone</td>\n",
       "      <td>Meet Gerbald. He just found out he's adopted. ...</td>\n",
       "      <td>https://twitter.com/dog_rates/status/1617</td>\n",
       "      <td>11.0</td>\n",
       "      <td>Gerbald</td>\n",
       "      <td>pupper</td>\n",
       "      <td>3814</td>\n",
       "      <td>1287</td>\n",
       "    </tr>\n",
       "    <tr>\n",
       "      <th>432</th>\n",
       "      <td>680913438424612864</td>\n",
       "      <td>https://pbs.twimg.com/media/CXMXKKHUMAA1QN3.jpg</td>\n",
       "      <td>Pomeranian</td>\n",
       "      <td>2015-12-27 00:49:49+00:00</td>\n",
       "      <td>Twitter for iPhone</td>\n",
       "      <td>Meet Griswold. He's dapper as hell. Already pu...</td>\n",
       "      <td>https://twitter.com/dog_rates/status/1703</td>\n",
       "      <td>11.0</td>\n",
       "      <td>Griswold</td>\n",
       "      <td>None</td>\n",
       "      <td>2233</td>\n",
       "      <td>569</td>\n",
       "    </tr>\n",
       "  </tbody>\n",
       "</table>\n",
       "</div>"
      ],
      "text/plain": [
       "               tweet_id                                          jpg_url  \\\n",
       "460  684188786104872960  https://pbs.twimg.com/media/CX66EiJWkAAVjA-.jpg   \n",
       "951  773704687002451968  https://pbs.twimg.com/media/CrzATQqWAAEHq2t.jpg   \n",
       "356  675878199931371520  https://pbs.twimg.com/media/CWEzo19WoAEiOCj.jpg   \n",
       "474  685169283572338688  https://pbs.twimg.com/media/CYI10WhWsAAjzii.jpg   \n",
       "432  680913438424612864  https://pbs.twimg.com/media/CXMXKKHUMAA1QN3.jpg   \n",
       "\n",
       "                 dog_Type                 timestamp              source  \\\n",
       "460                kelpie 2016-01-05 01:44:52+00:00  Twitter for iPhone   \n",
       "951         silky_terrier 2016-09-08 02:09:06+00:00  Twitter for iPhone   \n",
       "356              Cardigan 2015-12-13 03:21:34+00:00  Twitter for iPhone   \n",
       "474  Bernese_mountain_dog 2016-01-07 18:41:01+00:00  Twitter for iPhone   \n",
       "432            Pomeranian 2015-12-27 00:49:49+00:00  Twitter for iPhone   \n",
       "\n",
       "                                                  text  \\\n",
       "460  \"Yo Boomer I'm taking a selfie, grab your stic...   \n",
       "951  This is Loki. He knows he's adorable. One ear ...   \n",
       "356  Ok, I'll admit this is a pretty adorable bunny...   \n",
       "474  Meet Gerbald. He just found out he's adopted. ...   \n",
       "432  Meet Griswold. He's dapper as hell. Already pu...   \n",
       "\n",
       "                                 expanded_urls  rating      name dog_stage  \\\n",
       "460  https://twitter.com/dog_rates/status/1638    10.0       NaN      None   \n",
       "951   https://twitter.com/dog_rates/status/791    12.0      Loki      None   \n",
       "356  https://twitter.com/dog_rates/status/1841    11.0       NaN      None   \n",
       "474  https://twitter.com/dog_rates/status/1617    11.0   Gerbald    pupper   \n",
       "432  https://twitter.com/dog_rates/status/1703    11.0  Griswold      None   \n",
       "\n",
       "     favorite  retweet  \n",
       "460      3253     1063  \n",
       "951      6277     1507  \n",
       "356      3802     1247  \n",
       "474      3814     1287  \n",
       "432      2233      569  "
      ]
     },
     "execution_count": 47,
     "metadata": {},
     "output_type": "execute_result"
    }
   ],
   "source": [
    "df.sample(5)"
   ]
  },
  {
   "cell_type": "markdown",
   "metadata": {},
   "source": [
    "## Storing Data\n",
    "Save gathered, assessed, and cleaned master dataset to a CSV file named \"twitter_archive_master.csv\"."
   ]
  },
  {
   "cell_type": "code",
   "execution_count": 48,
   "metadata": {},
   "outputs": [],
   "source": [
    "df.to_csv('twitter_archive_master.csv',index=False)"
   ]
  },
  {
   "cell_type": "markdown",
   "metadata": {},
   "source": [
    "## Analyzing and Visualizing Data\n",
    "In this section, analyze and visualize your wrangled data. You must produce at least **three (3) insights and one (1) visualization.**"
   ]
  },
  {
   "cell_type": "code",
   "execution_count": 49,
   "metadata": {},
   "outputs": [
    {
     "name": "stdout",
     "output_type": "stream",
     "text": [
      "<class 'pandas.core.frame.DataFrame'>\n",
      "RangeIndex: 1296 entries, 0 to 1295\n",
      "Data columns (total 12 columns):\n",
      " #   Column         Non-Null Count  Dtype              \n",
      "---  ------         --------------  -----              \n",
      " 0   tweet_id       1296 non-null   int64              \n",
      " 1   jpg_url        1296 non-null   object             \n",
      " 2   dog_Type       1096 non-null   object             \n",
      " 3   timestamp      1296 non-null   datetime64[ns, UTC]\n",
      " 4   source         1296 non-null   object             \n",
      " 5   text           1296 non-null   object             \n",
      " 6   expanded_urls  1296 non-null   object             \n",
      " 7   rating         1296 non-null   float64            \n",
      " 8   name           888 non-null    object             \n",
      " 9   dog_stage      1296 non-null   object             \n",
      " 10  favorite       1296 non-null   int64              \n",
      " 11  retweet        1296 non-null   int64              \n",
      "dtypes: datetime64[ns, UTC](1), float64(1), int64(3), object(7)\n",
      "memory usage: 121.6+ KB\n"
     ]
    }
   ],
   "source": [
    "final_df = pd.read_csv('twitter_archive_master.csv')\n",
    "final_df.timestamp = pd.to_datetime(final_df.timestamp)\n",
    "final_df.info()"
   ]
  },
  {
   "cell_type": "code",
   "execution_count": 50,
   "metadata": {},
   "outputs": [
    {
     "data": {
      "text/html": [
       "<div>\n",
       "<style scoped>\n",
       "    .dataframe tbody tr th:only-of-type {\n",
       "        vertical-align: middle;\n",
       "    }\n",
       "\n",
       "    .dataframe tbody tr th {\n",
       "        vertical-align: top;\n",
       "    }\n",
       "\n",
       "    .dataframe thead th {\n",
       "        text-align: right;\n",
       "    }\n",
       "</style>\n",
       "<table border=\"1\" class=\"dataframe\">\n",
       "  <thead>\n",
       "    <tr style=\"text-align: right;\">\n",
       "      <th></th>\n",
       "      <th>tweet_id</th>\n",
       "      <th>jpg_url</th>\n",
       "      <th>dog_Type</th>\n",
       "      <th>timestamp</th>\n",
       "      <th>source</th>\n",
       "      <th>text</th>\n",
       "      <th>expanded_urls</th>\n",
       "      <th>rating</th>\n",
       "      <th>name</th>\n",
       "      <th>dog_stage</th>\n",
       "      <th>favorite</th>\n",
       "      <th>retweet</th>\n",
       "    </tr>\n",
       "  </thead>\n",
       "  <tbody>\n",
       "    <tr>\n",
       "      <th>0</th>\n",
       "      <td>666029285002620928</td>\n",
       "      <td>https://pbs.twimg.com/media/CT42GRgUYAA5iDo.jpg</td>\n",
       "      <td>redbone</td>\n",
       "      <td>2015-11-15 23:05:30+00:00</td>\n",
       "      <td>Twitter for iPhone</td>\n",
       "      <td>This is a western brown Mitsubishi terrier. Up...</td>\n",
       "      <td>https://twitter.com/dog_rates/status/2354</td>\n",
       "      <td>7.0</td>\n",
       "      <td>NaN</td>\n",
       "      <td>None</td>\n",
       "      <td>112</td>\n",
       "      <td>39</td>\n",
       "    </tr>\n",
       "    <tr>\n",
       "      <th>1</th>\n",
       "      <td>666044226329800704</td>\n",
       "      <td>https://pbs.twimg.com/media/CT5Dr8HUEAA-lEu.jpg</td>\n",
       "      <td>Rhodesian_ridgeback</td>\n",
       "      <td>2015-11-16 00:04:52+00:00</td>\n",
       "      <td>Twitter for iPhone</td>\n",
       "      <td>This is a purebred Piers Morgan. Loves to Netf...</td>\n",
       "      <td>https://twitter.com/dog_rates/status/2352</td>\n",
       "      <td>6.0</td>\n",
       "      <td>NaN</td>\n",
       "      <td>None</td>\n",
       "      <td>247</td>\n",
       "      <td>116</td>\n",
       "    </tr>\n",
       "    <tr>\n",
       "      <th>2</th>\n",
       "      <td>666051853826850816</td>\n",
       "      <td>https://pbs.twimg.com/media/CT5KoJ1WoAAJash.jpg</td>\n",
       "      <td>NaN</td>\n",
       "      <td>2015-11-16 00:35:11+00:00</td>\n",
       "      <td>Twitter for iPhone</td>\n",
       "      <td>This is an odd dog. Hard on the outside but lo...</td>\n",
       "      <td>https://twitter.com/dog_rates/status/2349</td>\n",
       "      <td>2.0</td>\n",
       "      <td>an</td>\n",
       "      <td>None</td>\n",
       "      <td>1034</td>\n",
       "      <td>710</td>\n",
       "    </tr>\n",
       "    <tr>\n",
       "      <th>3</th>\n",
       "      <td>666057090499244032</td>\n",
       "      <td>https://pbs.twimg.com/media/CT5PY90WoAAQGLo.jpg</td>\n",
       "      <td>golden_retriever</td>\n",
       "      <td>2015-11-16 00:55:59+00:00</td>\n",
       "      <td>Twitter for iPhone</td>\n",
       "      <td>My oh my. This is a rare blond Canadian terrie...</td>\n",
       "      <td>https://twitter.com/dog_rates/status/2347</td>\n",
       "      <td>9.0</td>\n",
       "      <td>NaN</td>\n",
       "      <td>None</td>\n",
       "      <td>252</td>\n",
       "      <td>113</td>\n",
       "    </tr>\n",
       "    <tr>\n",
       "      <th>4</th>\n",
       "      <td>666058600524156928</td>\n",
       "      <td>https://pbs.twimg.com/media/CT5Qw94XAAA_2dP.jpg</td>\n",
       "      <td>miniature_poodle</td>\n",
       "      <td>2015-11-16 01:01:59+00:00</td>\n",
       "      <td>Twitter for iPhone</td>\n",
       "      <td>Here is the Rand Paul of retrievers folks! He'...</td>\n",
       "      <td>https://twitter.com/dog_rates/status/2346</td>\n",
       "      <td>8.0</td>\n",
       "      <td>the</td>\n",
       "      <td>None</td>\n",
       "      <td>99</td>\n",
       "      <td>47</td>\n",
       "    </tr>\n",
       "  </tbody>\n",
       "</table>\n",
       "</div>"
      ],
      "text/plain": [
       "             tweet_id                                          jpg_url  \\\n",
       "0  666029285002620928  https://pbs.twimg.com/media/CT42GRgUYAA5iDo.jpg   \n",
       "1  666044226329800704  https://pbs.twimg.com/media/CT5Dr8HUEAA-lEu.jpg   \n",
       "2  666051853826850816  https://pbs.twimg.com/media/CT5KoJ1WoAAJash.jpg   \n",
       "3  666057090499244032  https://pbs.twimg.com/media/CT5PY90WoAAQGLo.jpg   \n",
       "4  666058600524156928  https://pbs.twimg.com/media/CT5Qw94XAAA_2dP.jpg   \n",
       "\n",
       "              dog_Type                 timestamp              source  \\\n",
       "0              redbone 2015-11-15 23:05:30+00:00  Twitter for iPhone   \n",
       "1  Rhodesian_ridgeback 2015-11-16 00:04:52+00:00  Twitter for iPhone   \n",
       "2                  NaN 2015-11-16 00:35:11+00:00  Twitter for iPhone   \n",
       "3     golden_retriever 2015-11-16 00:55:59+00:00  Twitter for iPhone   \n",
       "4     miniature_poodle 2015-11-16 01:01:59+00:00  Twitter for iPhone   \n",
       "\n",
       "                                                text  \\\n",
       "0  This is a western brown Mitsubishi terrier. Up...   \n",
       "1  This is a purebred Piers Morgan. Loves to Netf...   \n",
       "2  This is an odd dog. Hard on the outside but lo...   \n",
       "3  My oh my. This is a rare blond Canadian terrie...   \n",
       "4  Here is the Rand Paul of retrievers folks! He'...   \n",
       "\n",
       "                               expanded_urls  rating name dog_stage  favorite  \\\n",
       "0  https://twitter.com/dog_rates/status/2354     7.0  NaN      None       112   \n",
       "1  https://twitter.com/dog_rates/status/2352     6.0  NaN      None       247   \n",
       "2  https://twitter.com/dog_rates/status/2349     2.0   an      None      1034   \n",
       "3  https://twitter.com/dog_rates/status/2347     9.0  NaN      None       252   \n",
       "4  https://twitter.com/dog_rates/status/2346     8.0  the      None        99   \n",
       "\n",
       "   retweet  \n",
       "0       39  \n",
       "1      116  \n",
       "2      710  \n",
       "3      113  \n",
       "4       47  "
      ]
     },
     "execution_count": 50,
     "metadata": {},
     "output_type": "execute_result"
    }
   ],
   "source": [
    "final_df.head()"
   ]
  },
  {
   "cell_type": "markdown",
   "metadata": {},
   "source": [
    "### Insights:\n",
    "1.  The more the tweet get retweeted the more the number of favorites it gets.\n",
    "\n",
    "2.  The most common stage of dogs are Pupper, then floofer, followed by doggo, and the least common is puppo\n",
    "\n",
    "3.  There are only 14 out of 108 Dog Breed with rating above 5/10, and miniature_schnauzer is in the top with 9.6/10"
   ]
  },
  {
   "cell_type": "markdown",
   "metadata": {
    "collapsed": true
   },
   "source": [
    "### Visualization"
   ]
  },
  {
   "cell_type": "code",
   "execution_count": 60,
   "metadata": {},
   "outputs": [
    {
     "data": {
      "text/plain": [
       "Text(0.5, 1.0, 'Retweets and favorites Relation Scatter plot')"
      ]
     },
     "execution_count": 60,
     "metadata": {},
     "output_type": "execute_result"
    },
    {
     "data": {
      "image/png": "[encoded data removed]",
      "text/plain": [
       "<Figure size 432x288 with 1 Axes>"
      ]
     },
     "metadata": {
      "needs_background": "light"
     },
     "output_type": "display_data"
    }
   ],
   "source": [
    "plt.scatter(final_df['favorite'], final_df['retweet'])\n",
    "plt.xlabel('Retweets')\n",
    "plt.ylabel('Favorites')\n",
    "plt.title('Retweets and favorites Relation Scatter plot')"
   ]
  },
  {
   "cell_type": "markdown",
   "metadata": {},
   "source": [
    "The more the tweet get retweeted the more the number of favorites it gets."
   ]
  },
  {
   "cell_type": "code",
   "execution_count": 129,
   "metadata": {},
   "outputs": [
    {
     "data": {
      "text/plain": [
       "Text(0.5, 1.0, 'Dog stage')"
      ]
     },
     "execution_count": 129,
     "metadata": {},
     "output_type": "execute_result"
    },
    {
     "data": {
      "image/png": "[encoded data removed]",
      "text/plain": [
       "<Figure size 432x288 with 1 Axes>"
      ]
     },
     "metadata": {},
     "output_type": "display_data"
    }
   ],
   "source": [
    "plt.pie(labels=final_df.dog_stage.unique()[1:],x=final_df.dog_stage.value_counts()[1:],explode =  (0.1, 0.1, 0.1, 0.1))\n",
    "plt.xlabel('Count')\n",
    "plt.title('Dog stage')"
   ]
  },
  {
   "cell_type": "markdown",
   "metadata": {},
   "source": [
    "The most common stage of dogs are Pupper, then floofer, followed by doggo, and the least common is puppo"
   ]
  },
  {
   "cell_type": "code",
   "execution_count": 123,
   "metadata": {},
   "outputs": [
    {
     "data": {
      "text/plain": [
       "Text(0.5, 1.0, 'A Bar chart of top 15 predicted dog breed in rating ')"
      ]
     },
     "execution_count": 123,
     "metadata": {},
     "output_type": "execute_result"
    },
    {
     "data": {
      "image/png": "[encoded data removed]",
      "text/plain": [
       "<Figure size 432x288 with 1 Axes>"
      ]
     },
     "metadata": {
      "needs_background": "light"
     },
     "output_type": "display_data"
    }
   ],
   "source": [
    "plt.barh(final_df.groupby(final_df.dog_Type).rating.mean().sort_values()[:15].index[:15],final_df.groupby(final_df.dog_Type).rating.mean().sort_values()[:15])\n",
    "plt.ylabel('Dog predicted Breed')\n",
    "plt.xlabel('Rating')\n",
    "plt.title('A Bar chart of top 15 predicted dog breed in rating ')"
   ]
  },
  {
   "cell_type": "markdown",
   "metadata": {},
   "source": [
    "There are only 14 out of 108 Dog Breed with rating above 5/10, and miniature_schnauzer is in the top with 9.6/10"
   ]
  }
 ],
 "metadata": {
  "extensions": {
   "jupyter_dashboards": {
    "activeView": "report_default",
    "version": 1,
    "views": {
     "grid_default": {
      "cellMargin": 10,
      "defaultCellHeight": 20,
      "maxColumns": 12,
      "name": "grid",
      "type": "grid"
     },
     "report_default": {
      "name": "report",
      "type": "report"
     }
    }
   }
  },
  "kernelspec": {
   "display_name": "Python 3",
   "language": "python",
   "name": "python3"
  },
  "language_info": {
   "codemirror_mode": {
    "name": "ipython",
    "version": 3
   },
   "file_extension": ".py",
   "mimetype": "text/x-python",
   "name": "python",
   "nbconvert_exporter": "python",
   "pygments_lexer": "ipython3",
   "version": "3.10.2"
  }
 },
 "nbformat": 4,
 "nbformat_minor": 2
}
